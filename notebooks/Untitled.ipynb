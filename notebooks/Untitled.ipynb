{
 "cells": [
  {
   "cell_type": "code",
   "execution_count": 144,
   "metadata": {},
   "outputs": [],
   "source": [
    "import numpy as np\n",
    "from collections import OrderedDict\n",
    "import matplotlib.pyplot as plt\n",
    "import h5py"
   ]
  },
  {
   "cell_type": "code",
   "execution_count": 138,
   "metadata": {},
   "outputs": [],
   "source": [
    "dir='/home/pablo/github/DeepIceLearning/l2_00000111.h5'"
   ]
  },
  {
   "cell_type": "code",
   "execution_count": 139,
   "metadata": {},
   "outputs": [],
   "source": [
    "data = h5py.File(dir)"
   ]
  },
  {
   "cell_type": "code",
   "execution_count": 140,
   "metadata": {},
   "outputs": [
    {
     "data": {
      "text/plain": [
       "<KeysViewHDF5 ['IC_charge', 'IC_charge_100ns', 'IC_charge_10ns', 'IC_charge_500ns', 'IC_charge_50ns', 'IC_charge_last', 'IC_diff', 'IC_first_charge', 'IC_mult', 'IC_num_pulses', 'IC_pulse_0_01_pct_charge_quantile', 'IC_pulse_0_03_pct_charge_quantile', 'IC_pulse_0_05_pct_charge_quantile', 'IC_pulse_0_08_pct_charge_quantile', 'IC_pulse_0_11_pct_charge_quantile', 'IC_pulse_0_15_pct_charge_quantile', 'IC_pulse_0_2_pct_charge_quantile', 'IC_pulse_0_5_pct_charge_quantile', 'IC_pulse_0_8_pct_charge_quantile', 'IC_time_first', 'IC_time_last', 'IC_time_spread', 'IC_time_std', 'IC_time_weighted_median', 'reco_vals']>"
      ]
     },
     "execution_count": 140,
     "metadata": {},
     "output_type": "execute_result"
    }
   ],
   "source": [
    "data.keys()"
   ]
  },
  {
   "cell_type": "code",
   "execution_count": 141,
   "metadata": {},
   "outputs": [
    {
     "name": "stdout",
     "output_type": "stream",
     "text": [
      "nan\n",
      "0\n"
     ]
    },
    {
     "data": {
      "image/png": "[encoded data removed]",
      "text/plain": [
       "<Figure size 432x288 with 1 Axes>"
      ]
     },
     "metadata": {
      "needs_background": "light"
     },
     "output_type": "display_data"
    }
   ],
   "source": [
    "diff = h5py.File(dir)['IC_diff']\n",
    "diff=diff[:,:,:].flatten()\n",
    "print(\"nan\")\n",
    "print(sum(diff!=diff))\n",
    "\n",
    "diff=diff[diff!=0]\n",
    "plt.hist(diff)\n",
    "plt.show()"
   ]
  },
  {
   "cell_type": "code",
   "execution_count": 142,
   "metadata": {},
   "outputs": [
    {
     "name": "stdout",
     "output_type": "stream",
     "text": [
      "nan\n",
      "0\n"
     ]
    },
    {
     "data": {
      "image/png": "[encoded data removed]",
      "text/plain": [
       "<Figure size 432x288 with 1 Axes>"
      ]
     },
     "metadata": {
      "needs_background": "light"
     },
     "output_type": "display_data"
    }
   ],
   "source": [
    "mult = h5py.File(dir)['IC_mult']\n",
    "mult=mult[:,:,:].flatten()\n",
    "print(\"nan\")\n",
    "print(sum(mult!=mult))\n",
    "mult=mult[mult!=0]\n",
    "plt.hist(np.log10(mult))\n",
    "plt.show()"
   ]
  },
  {
   "cell_type": "code",
   "execution_count": 66,
   "metadata": {},
   "outputs": [
    {
     "data": {
      "text/plain": [
       "nan"
      ]
     },
     "execution_count": 66,
     "metadata": {},
     "output_type": "execute_result"
    }
   ],
   "source": [
    "diff = h5py.File(dir)['IC_diff']\n",
    "diff=diff[:,:,:].flatten()\n",
    "diff[diff!=diff][1]"
   ]
  },
  {
   "cell_type": "code",
   "execution_count": 67,
   "metadata": {},
   "outputs": [
    {
     "data": {
      "text/plain": [
       "array([nan, nan, nan, ..., nan, nan, nan])"
      ]
     },
     "execution_count": 67,
     "metadata": {},
     "output_type": "execute_result"
    }
   ],
   "source": [
    "diff[diff!=diff]"
   ]
  }
 ],
 "metadata": {
  "kernelspec": {
   "display_name": "Python 3",
   "language": "python",
   "name": "python3"
  },
  "language_info": {
   "codemirror_mode": {
    "name": "ipython",
    "version": 3
   },
   "file_extension": ".py",
   "mimetype": "text/x-python",
   "name": "python",
   "nbconvert_exporter": "python",
   "pygments_lexer": "ipython3",
   "version": "3.7.6"
  }
 },
 "nbformat": 4,
 "nbformat_minor": 4
}
