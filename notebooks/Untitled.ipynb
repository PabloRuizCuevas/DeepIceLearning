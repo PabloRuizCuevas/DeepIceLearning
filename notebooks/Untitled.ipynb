{
 "cells": [
  {
   "cell_type": "code",
   "execution_count": 1,
   "metadata": {},
   "outputs": [],
   "source": [
    "import numpy as np\n",
    "from collections import OrderedDict\n",
    "import matplotlib.pyplot as plt\n",
    "import h5py"
   ]
  },
  {
   "cell_type": "code",
   "execution_count": 7,
   "metadata": {},
   "outputs": [],
   "source": [
    "dir='/home/pablo/github/DeepIceLearning/l2_00004746.h5'"
   ]
  },
  {
   "cell_type": "code",
   "execution_count": 8,
   "metadata": {},
   "outputs": [],
   "source": [
    "data = h5py.File(dir)"
   ]
  },
  {
   "cell_type": "code",
   "execution_count": 9,
   "metadata": {},
   "outputs": [
    {
     "data": {
      "text/plain": [
       "<KeysViewHDF5 ['IC_charge', 'IC_charge_100ns', 'IC_charge_10ns', 'IC_charge_500ns', 'IC_charge_50ns', 'IC_charge_last', 'IC_diff', 'IC_first_charge', 'IC_mult', 'IC_num_pulses', 'IC_pulse_0_01_pct_charge_quantile', 'IC_pulse_0_03_pct_charge_quantile', 'IC_pulse_0_05_pct_charge_quantile', 'IC_pulse_0_08_pct_charge_quantile', 'IC_pulse_0_11_pct_charge_quantile', 'IC_pulse_0_15_pct_charge_quantile', 'IC_pulse_0_2_pct_charge_quantile', 'IC_pulse_0_5_pct_charge_quantile', 'IC_pulse_0_8_pct_charge_quantile', 'IC_time_first', 'IC_time_last', 'IC_time_spread', 'IC_time_std', 'IC_time_weighted_median', 'reco_vals']>"
      ]
     },
     "execution_count": 9,
     "metadata": {},
     "output_type": "execute_result"
    }
   ],
   "source": [
    "data.keys()"
   ]
  },
  {
   "cell_type": "code",
   "execution_count": 47,
   "metadata": {},
   "outputs": [
    {
     "name": "stdout",
     "output_type": "stream",
     "text": [
      "nan\n",
      "5756\n"
     ]
    },
    {
     "data": {
      "image/png": "[encoded data removed]",
      "text/plain": [
       "<Figure size 432x288 with 1 Axes>"
      ]
     },
     "metadata": {
      "needs_background": "light"
     },
     "output_type": "display_data"
    }
   ],
   "source": [
    "diff = h5py.File(dir)['IC_diff']\n",
    "diff=diff[:,:,:].flatten()\n",
    "print(\"nan\")\n",
    "print(sum(diff!=diff))\n",
    "\n",
    "diff=diff[diff!=0]\n",
    "plt.hist(diff)\n",
    "plt.show()"
   ]
  },
  {
   "cell_type": "code",
   "execution_count": 49,
   "metadata": {},
   "outputs": [
    {
     "name": "stdout",
     "output_type": "stream",
     "text": [
      "nan\n",
      "5756\n"
     ]
    },
    {
     "data": {
      "image/png": "[encoded data removed]",
      "text/plain": [
       "<Figure size 432x288 with 1 Axes>"
      ]
     },
     "metadata": {
      "needs_background": "light"
     },
     "output_type": "display_data"
    }
   ],
   "source": [
    "mult = h5py.File(dir)['IC_mult']\n",
    "mult=mult[:,:,:].flatten()\n",
    "print(\"nan\")\n",
    "print(sum(mult!=mult))\n",
    "mult=mult[mult!=0]\n",
    "plt.hist(np.log10(mult))\n",
    "plt.show()"
   ]
  },
  {
   "cell_type": "code",
   "execution_count": 59,
   "metadata": {},
   "outputs": [
    {
     "data": {
      "text/plain": [
       "False"
      ]
     },
     "execution_count": 59,
     "metadata": {},
     "output_type": "execute_result"
    }
   ],
   "source": [
    "diff = h5py.File(dir)['IC_diff']\n",
    "diff=diff[:,:,:].flatten()\n",
    "diff[diff!=diff][1]"
   ]
  },
  {
   "cell_type": "code",
   "execution_count": 28,
   "metadata": {},
   "outputs": [
    {
     "data": {
      "text/plain": [
       "478428"
      ]
     },
     "execution_count": 28,
     "metadata": {},
     "output_type": "execute_result"
    }
   ],
   "source": [
    "diff[diff!=diff]"
   ]
  },
  {
   "cell_type": "code",
   "execution_count": 34,
   "metadata": {},
   "outputs": [],
   "source": []
  },
  {
   "cell_type": "code",
   "execution_count": 35,
   "metadata": {},
   "outputs": [
    {
     "data": {
      "text/plain": [
       "492000"
      ]
     },
     "execution_count": 35,
     "metadata": {},
     "output_type": "execute_result"
    }
   ],
   "source": []
  },
  {
   "cell_type": "code",
   "execution_count": 36,
   "metadata": {},
   "outputs": [
    {
     "data": {
      "text/plain": [
       "13572"
      ]
     },
     "execution_count": 36,
     "metadata": {},
     "output_type": "execute_result"
    }
   ],
   "source": []
  },
  {
   "cell_type": "code",
   "execution_count": 38,
   "metadata": {},
   "outputs": [
    {
     "data": {
      "text/plain": [
       "(array([  21.,  162.,  689.,  519.,  377., 2039., 2031.,  940.,  902.,\n",
       "         136.]),\n",
       " array([-0.85512979, -0.70491326, -0.55469672, -0.40448019, -0.25426365,\n",
       "        -0.10404712,  0.04616942,  0.19638595,  0.34660249,  0.49681902,\n",
       "         0.64703555]),\n",
       " <a list of 10 Patch objects>)"
      ]
     },
     "execution_count": 38,
     "metadata": {},
     "output_type": "execute_result"
    },
    {
     "data": {
      "image/png": "[encoded data removed]",
      "text/plain": [
       "<Figure size 432x288 with 1 Axes>"
      ]
     },
     "metadata": {
      "needs_background": "light"
     },
     "output_type": "display_data"
    }
   ],
   "source": []
  },
  {
   "cell_type": "code",
   "execution_count": null,
   "metadata": {},
   "outputs": [],
   "source": []
  }
 ],
 "metadata": {
  "kernelspec": {
   "display_name": "Python [conda env:py368]",
   "language": "python",
   "name": "conda-env-py368-py"
  },
  "language_info": {
   "codemirror_mode": {
    "name": "ipython",
    "version": 3
   },
   "file_extension": ".py",
   "mimetype": "text/x-python",
   "name": "python",
   "nbconvert_exporter": "python",
   "pygments_lexer": "ipython3",
   "version": "3.7.3"
  }
 },
 "nbformat": 4,
 "nbformat_minor": 2
}
