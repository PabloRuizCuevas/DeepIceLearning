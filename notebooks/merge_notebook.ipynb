{
 "cells": [
  {
   "cell_type": "code",
   "execution_count": 17,
   "metadata": {},
   "outputs": [],
   "source": [
    "import h5py\n",
    "import os\n",
    "import tables\n",
    "import numpy as np\n",
    "import multiprocessing\n",
    "import time"
   ]
  },
  {
   "cell_type": "code",
   "execution_count": 18,
   "metadata": {},
   "outputs": [],
   "source": [
    "inputfolder=\"/home/pablo/github/DeepIceLearning/notebooks/h5\"\n",
    "outputfolder=\"/home/pablo/github/DeepIceLearning/notebooks/h5_merged\"\n",
    "n=2  #number of output files (also simultaneous cpu usage)"
   ]
  },
  {
   "cell_type": "code",
   "execution_count": 19,
   "metadata": {},
   "outputs": [
    {
     "name": "stdout",
     "output_type": "stream",
     "text": [
      "The computer has: 4 CPU. You are using: 2\n"
     ]
    }
   ],
   "source": [
    "print(\"The computer has:\", multiprocessing.cpu_count(),\"CPU.\",\"You are using:\",n)"
   ]
  },
  {
   "cell_type": "code",
   "execution_count": 20,
   "metadata": {},
   "outputs": [],
   "source": [
    "File_list=os.listdir(inputfolder)   #np.sort\n",
    "Full_path_file_list = [os.path.join(inputfolder, path) for path in  File_list ]\n",
    "Splited_Full_path_file_list=np.array_split(Full_path_file_list,n)\n",
    "outputfile_list=[outputfolder+\"/h5_merged{}.h5\".format(i) for i in range(n) ]"
   ]
  },
  {
   "cell_type": "code",
   "execution_count": 5,
   "metadata": {},
   "outputs": [],
   "source": [
    "def merge(file_and_output_file):\n",
    "    file_list,output_file=file_and_output_file\n",
    "    input_shape = [10, 10, 60]\n",
    "    FILTERS = tables.Filters(complib='zlib', complevel=9)\n",
    "\n",
    "    hf1 = h5py.File(file_list[0], 'r')\n",
    "    dtype=hf1[\"reco_vals\"].dtype\n",
    "    keys = list(hf1.keys())\n",
    "\n",
    "    with tables.open_file(output_file, mode=\"w\", title=\"Events for training the NN\", filters=FILTERS) as h5file:\n",
    "\n",
    "        input_features = []\n",
    "        for okey in keys[:-1]:\n",
    "            feature = h5file.create_earray(\n",
    "                    h5file.root, okey, tables.Float64Atom(),\n",
    "                    (0, input_shape[0], input_shape[1], input_shape[2], 1),\n",
    "                    title=okey)\n",
    "            feature.flush()\n",
    "            input_features.append(feature)\n",
    "        reco_vals = tables.Table(h5file.root, 'reco_vals', description=dtype)\n",
    "        h5file.root._v_attrs.shape = input_shape\n",
    "        hf1.close()\n",
    "        it=0\n",
    "        s=np.size(file_list)\n",
    "        for file in file_list:\n",
    "            print('Open {}'.format(file),it/s*100,\"%\")\n",
    "            it+=1\n",
    "            one_h5file = h5py.File(file, 'r')\n",
    "            num_events = len(one_h5file[\"reco_vals\"])\n",
    "            for k in range(num_events):\n",
    "                for i, okey in enumerate(keys[:-1]):\n",
    "                    input_features[i].append(np.expand_dims(one_h5file[okey][k], axis=0))\n",
    "                reco_vals.append(np.atleast_1d(one_h5file[\"reco_vals\"][k]))\n",
    "            for inp_feature in input_features:\n",
    "                    inp_feature.flush()\n",
    "            reco_vals.flush()\n",
    "        one_h5file.close()\n",
    "\n",
    "    print(\"Finished.\")"
   ]
  },
  {
   "cell_type": "code",
   "execution_count": 10,
   "metadata": {},
   "outputs": [
    {
     "name": "stdout",
     "output_type": "stream",
     "text": [
      "Open /home/pablo/github/DeepIceLearning/notebooks/h5/File_29.h5 0.0 %\n",
      "Open /home/pablo/github/DeepIceLearning/notebooks/h5/File_16.h5 0.0 %\n",
      "Open /home/pablo/github/DeepIceLearning/notebooks/h5/File_26.h5 0.0 %\n",
      "Open /home/pablo/github/DeepIceLearning/notebooks/h5/File_20.h5 0.0 %\n",
      "Open /home/pablo/github/DeepIceLearning/notebooks/h5/File_27.h5 0.0 %\n",
      "Open /home/pablo/github/DeepIceLearning/notebooks/h5/File_3.h5 0.0 %\n",
      "Open /home/pablo/github/DeepIceLearning/notebooks/h5/File_6.h5 0.0 %\n",
      "Open /home/pablo/github/DeepIceLearning/notebooks/h5/File_28.h5 0.0 %\n",
      "Open /home/pablo/github/DeepIceLearning/notebooks/h5/File_17.h5 0.0 %\n",
      "Open /home/pablo/github/DeepIceLearning/notebooks/h5/File_23.h5 0.0 %\n",
      "Open /home/pablo/github/DeepIceLearning/notebooks/h5/File_25.h5 33.33333333333333 %\n",
      "Open /home/pablo/github/DeepIceLearning/notebooks/h5/File_8.h5 33.33333333333333 %\n",
      "Open /home/pablo/github/DeepIceLearning/notebooks/h5/File_4.h5 33.33333333333333 %\n",
      "Open /home/pablo/github/DeepIceLearning/notebooks/h5/File_21.h5 33.33333333333333 %\n",
      "Open /home/pablo/github/DeepIceLearning/notebooks/h5/File_9.h5 33.33333333333333 %\n",
      "Open /home/pablo/github/DeepIceLearning/notebooks/h5/File_22.h5 33.33333333333333 %\n",
      "Open /home/pablo/github/DeepIceLearning/notebooks/h5/File_0.h5 33.33333333333333 %\n",
      "Open /home/pablo/github/DeepIceLearning/notebooks/h5/File_13.h5 33.33333333333333 %\n",
      "Open /home/pablo/github/DeepIceLearning/notebooks/h5/File_14.h5 33.33333333333333 %\n",
      "Open /home/pablo/github/DeepIceLearning/notebooks/h5/File_24.h5 33.33333333333333 %\n",
      "Open /home/pablo/github/DeepIceLearning/notebooks/h5/File_5.h5 66.66666666666666 %\n",
      "Open /home/pablo/github/DeepIceLearning/notebooks/h5/File_15.h5 66.66666666666666 %\n",
      "Open /home/pablo/github/DeepIceLearning/notebooks/h5/File_11.h5 66.66666666666666 %\n",
      "Open /home/pablo/github/DeepIceLearning/notebooks/h5/File_7.h5 66.66666666666666 %\n",
      "Open /home/pablo/github/DeepIceLearning/notebooks/h5/File_12.h5 66.66666666666666 %\n",
      "Open /home/pablo/github/DeepIceLearning/notebooks/h5/File_10.h5 66.66666666666666 %\n",
      "Open /home/pablo/github/DeepIceLearning/notebooks/h5/File_2.h5 66.66666666666666 %\n",
      "Open /home/pablo/github/DeepIceLearning/notebooks/h5/File_1.h5 66.66666666666666 %\n",
      "Open /home/pablo/github/DeepIceLearning/notebooks/h5/File_18.h5 66.66666666666666 %\n",
      "Open /home/pablo/github/DeepIceLearning/notebooks/h5/File_19.h5 66.66666666666666 %\n",
      "Finished.\n",
      "Finished.\n",
      "Finished.\n",
      "Finished.\n",
      "Finished.\n",
      "Finished.\n",
      "Finished.\n",
      "Finished.\n",
      "Finished.\n",
      "Finished.\n",
      "Total time elapsed: 88.85809707641602 s\n"
     ]
    }
   ],
   "source": [
    "file_and_output_file=[(Splited_Full_path_file_list[i],outputfile_list[i]) for i in range(n)]\n",
    "\n",
    "ti = time.time()\n",
    "p = multiprocessing.Pool(n)\n",
    "p.map(merge,file_and_output_file)\n",
    "\n",
    "p.close()\n",
    "p.join()\n",
    "tf=time.time()-ti\n",
    "print(\"Total time elapsed:\", tf,\"s\")"
   ]
  },
  {
   "cell_type": "code",
   "execution_count": 6,
   "metadata": {},
   "outputs": [
    {
     "name": "stdout",
     "output_type": "stream",
     "text": [
      "Open /home/pablo/github/DeepIceLearning/notebooks/h5/File_29.h5 0.0 %\n",
      "Open /home/pablo/github/DeepIceLearning/notebooks/h5/File_24.h5 6.666666666666667 %\n",
      "Open /home/pablo/github/DeepIceLearning/notebooks/h5/File_5.h5 13.333333333333334 %\n",
      "Open /home/pablo/github/DeepIceLearning/notebooks/h5/File_6.h5 20.0 %\n",
      "Open /home/pablo/github/DeepIceLearning/notebooks/h5/File_21.h5 26.666666666666668 %\n",
      "Open /home/pablo/github/DeepIceLearning/notebooks/h5/File_12.h5 33.33333333333333 %\n",
      "Open /home/pablo/github/DeepIceLearning/notebooks/h5/File_3.h5 40.0 %\n",
      "Open /home/pablo/github/DeepIceLearning/notebooks/h5/File_4.h5 46.666666666666664 %\n",
      "Open /home/pablo/github/DeepIceLearning/notebooks/h5/File_7.h5 53.333333333333336 %\n",
      "Open /home/pablo/github/DeepIceLearning/notebooks/h5/File_16.h5 60.0 %\n",
      "Open /home/pablo/github/DeepIceLearning/notebooks/h5/File_0.h5 66.66666666666666 %\n",
      "Open /home/pablo/github/DeepIceLearning/notebooks/h5/File_18.h5 73.33333333333333 %\n",
      "Open /home/pablo/github/DeepIceLearning/notebooks/h5/File_23.h5 80.0 %\n",
      "Open /home/pablo/github/DeepIceLearning/notebooks/h5/File_22.h5 86.66666666666667 %\n",
      "Open /home/pablo/github/DeepIceLearning/notebooks/h5/File_15.h5 93.33333333333333 %\n",
      "Finished.\n",
      "Total time elapsed: 109.96831607818604 s\n"
     ]
    }
   ],
   "source": [
    "ti = time.time()\n",
    "merge((Splited_Full_path_file_list[0],outputfile_list[0]))\n",
    "tf=time.time()-ti\n",
    "print(\"Total time elapsed:\", tf,\"s\")"
   ]
  },
  {
   "cell_type": "code",
   "execution_count": 23,
   "metadata": {},
   "outputs": [
    {
     "name": "stdout",
     "output_type": "stream",
     "text": [
      "Open /home/pablo/github/DeepIceLearning/notebooks/h5/File_29.h5 0.0 %\n",
      "Open /home/pablo/github/DeepIceLearning/notebooks/h5/File_24.h5 12.5 %\n",
      "Open /home/pablo/github/DeepIceLearning/notebooks/h5/File_5.h5 25.0 %\n",
      "Open /home/pablo/github/DeepIceLearning/notebooks/h5/File_6.h5 37.5 %\n",
      "Open /home/pablo/github/DeepIceLearning/notebooks/h5/File_21.h5 50.0 %\n",
      "Open /home/pablo/github/DeepIceLearning/notebooks/h5/File_12.h5 62.5 %\n",
      "Open /home/pablo/github/DeepIceLearning/notebooks/h5/File_3.h5 75.0 %\n",
      "Open /home/pablo/github/DeepIceLearning/notebooks/h5/File_4.h5 87.5 %\n",
      "Finished.\n",
      "Total time elapsed: 57.91114807128906 s\n",
      "Open /home/pablo/github/DeepIceLearning/notebooks/h5/File_7.h5 0.0 %\n",
      "Open /home/pablo/github/DeepIceLearning/notebooks/h5/File_16.h5 14.285714285714285 %\n",
      "Open /home/pablo/github/DeepIceLearning/notebooks/h5/File_0.h5 28.57142857142857 %\n",
      "Open /home/pablo/github/DeepIceLearning/notebooks/h5/File_18.h5 42.857142857142854 %\n",
      "Open /home/pablo/github/DeepIceLearning/notebooks/h5/File_23.h5 57.14285714285714 %\n",
      "Open /home/pablo/github/DeepIceLearning/notebooks/h5/File_22.h5 71.42857142857143 %\n",
      "Open /home/pablo/github/DeepIceLearning/notebooks/h5/File_15.h5 85.71428571428571 %\n",
      "Finished.\n",
      "Total time elapsed: 108.2177369594574 s\n",
      "Open /home/pablo/github/DeepIceLearning/notebooks/h5_merged/h5_merged0.h5 0.0 %\n",
      "Open /home/pablo/github/DeepIceLearning/notebooks/h5_merged/h5_merged1.h5 50.0 %\n",
      "Finished.\n",
      "Total time elapsed: 216.2155044078827 s\n"
     ]
    }
   ],
   "source": [
    "#divide and conquer is not a good strategy here\n",
    "ti = time.time()\n",
    "merge((np.array_split(Splited_Full_path_file_list[0],n)[0],outputfile_list[0]))\n",
    "tf=time.time()-ti\n",
    "print(\"Total time elapsed:\", tf,\"s\")\n",
    "merge((np.array_split(Splited_Full_path_file_list[0],n)[1],outputfile_list[1]))\n",
    "tf=time.time()-ti\n",
    "print(\"Total time elapsed:\", tf,\"s\")\n",
    "merge((np.array([outputfile_list[0],outputfile_list[1]]),'/home/pablo/github/DeepIceLearning/notebooks/h5_merged/h5_merged3.h5'))\n",
    "tf=time.time()-ti\n",
    "print(\"Total time elapsed:\", tf,\"s\")"
   ]
  },
  {
   "cell_type": "code",
   "execution_count": null,
   "metadata": {},
   "outputs": [],
   "source": []
  }
 ],
 "metadata": {
  "kernelspec": {
   "display_name": "Python 3",
   "language": "python",
   "name": "python3"
  },
  "language_info": {
   "codemirror_mode": {
    "name": "ipython",
    "version": 3
   },
   "file_extension": ".py",
   "mimetype": "text/x-python",
   "name": "python",
   "nbconvert_exporter": "python",
   "pygments_lexer": "ipython3",
   "version": "3.8.3"
  }
 },
 "nbformat": 4,
 "nbformat_minor": 4
}
