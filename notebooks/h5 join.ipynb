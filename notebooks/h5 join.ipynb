{
 "cells": [
  {
   "cell_type": "code",
   "execution_count": 5,
   "metadata": {},
   "outputs": [],
   "source": [
    "import numpy as np\n",
    "import matplotlib.pyplot as plt\n",
    "import h5py\n",
    "import os"
   ]
  },
  {
   "cell_type": "code",
   "execution_count": 2,
   "metadata": {},
   "outputs": [],
   "source": [
    "path1=\"File_0_mine.h5\"\n",
    "paht2=\"File_0_mine.h5\"\n"
   ]
  },
  {
   "cell_type": "code",
   "execution_count": null,
   "metadata": {},
   "outputs": [],
   "source": [
    "import h5py\n",
    "import numpy as np\n",
    "\n",
    "# function to return a list of paths to each dataset\n",
    "def getdatasets(key,archive):\n",
    "\n",
    "    if key[-1] != '/': key += '/'\n",
    "\n",
    "    out = []\n",
    "\n",
    "    for name in archive[key]:\n",
    "\n",
    "        path = key + name\n",
    "\n",
    "        if isinstance(archive[path], h5py.Dataset):\n",
    "            out += [path]\n",
    "        else:\n",
    "            out += getdatasets(path,archive)\n",
    "\n",
    "        return out\n",
    "\n",
    "\n",
    "# open HDF5-files\n",
    "data     = h5py.File('old.hdf5','r')\n",
    "new_data = h5py.File('new.hdf5','w')\n",
    "\n",
    "# read as much datasets as possible from the old HDF5-file\n",
    "datasets = getdatasets('/',data)\n",
    "\n",
    "# get the group-names from the lists of datasets\n",
    "groups = list(set([i[::-1].split('/',1)[1][::-1] for i in datasets]))\n",
    "groups = [i for i in groups if len(i)>0]\n",
    "\n",
    "# sort groups based on depth\n",
    "idx    = np.argsort(np.array([len(i.split('/')) for i in groups]))\n",
    "groups = [groups[i] for i in idx]\n",
    "\n",
    "# create all groups that contain dataset that will be copied\n",
    "for group in groups:\n",
    "    new_data.create_group(group)\n",
    "\n",
    "# copy datasets\n",
    "for path in datasets:\n",
    "\n",
    "      # - get group name\n",
    "    group = path[::-1].split('/',1)[1][::-1]\n",
    "\n",
    "      # - minimum group name\n",
    "    if len(group) == 0: group = '/'\n",
    "\n",
    "      # - copy data\n",
    "    data.copy(path, new_data[group])"
   ]
  },
  {
   "cell_type": "code",
   "execution_count": null,
   "metadata": {},
   "outputs": [],
   "source": []
  },
  {
   "cell_type": "code",
   "execution_count": 6,
   "metadata": {},
   "outputs": [],
   "source": [
    "import numpy as np"
   ]
  },
  {
   "cell_type": "code",
   "execution_count": 18,
   "metadata": {},
   "outputs": [
    {
     "data": {
      "text/plain": [
       "16"
      ]
     },
     "execution_count": 18,
     "metadata": {},
     "output_type": "execute_result"
    }
   ],
   "source": [
    "int(np.random.uniform(30))"
   ]
  },
  {
   "cell_type": "code",
   "execution_count": 28,
   "metadata": {},
   "outputs": [
    {
     "data": {
      "text/plain": [
       "(39, 1, 2)"
      ]
     },
     "execution_count": 28,
     "metadata": {},
     "output_type": "execute_result"
    }
   ],
   "source": [
    "def uni(n):\n",
    "    return int(np.random.uniform(40))\n",
    "\n",
    "uni = lambda n : int(np.random.uniform(n))\n",
    "\n",
    "int(np.random.uniform(40)),int(np.random.uniform(10)),int(np.random.uniform(10))"
   ]
  },
  {
   "cell_type": "code",
   "execution_count": 30,
   "metadata": {},
   "outputs": [
    {
     "data": {
      "text/plain": [
       "5"
      ]
     },
     "execution_count": 30,
     "metadata": {},
     "output_type": "execute_result"
    }
   ],
   "source": [
    "uni(40)"
   ]
  },
  {
   "cell_type": "code",
   "execution_count": 33,
   "metadata": {},
   "outputs": [
    {
     "data": {
      "text/plain": [
       "2"
      ]
     },
     "execution_count": 33,
     "metadata": {},
     "output_type": "execute_result"
    }
   ],
   "source": [
    "np.shape([[1,2]])[-1]"
   ]
  },
  {
   "cell_type": "code",
   "execution_count": null,
   "metadata": {},
   "outputs": [],
   "source": []
  }
 ],
 "metadata": {
  "kernelspec": {
   "display_name": "Python 3",
   "language": "python",
   "name": "python3"
  },
  "language_info": {
   "codemirror_mode": {
    "name": "ipython",
    "version": 3
   },
   "file_extension": ".py",
   "mimetype": "text/x-python",
   "name": "python",
   "nbconvert_exporter": "python",
   "pygments_lexer": "ipython3",
   "version": "3.7.6"
  }
 },
 "nbformat": 4,
 "nbformat_minor": 4
}
