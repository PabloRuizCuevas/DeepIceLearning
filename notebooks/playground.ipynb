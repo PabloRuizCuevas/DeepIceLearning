{
 "cells": [
  {
   "cell_type": "code",
   "execution_count": 1,
   "metadata": {},
   "outputs": [
    {
     "name": "stderr",
     "output_type": "stream",
     "text": [
      "Using TensorFlow backend.\n"
     ]
    }
   ],
   "source": [
    "%matplotlib inline\n",
    "import matplotlib.pyplot as plt\n",
    "import numpy as np\n",
    "#from icecube import dataio, dataclasses\n",
    "import os\n",
    "import keras\n",
    "from keras.models import Sequential, load_model\n",
    "from keras.layers import Dense, Dropout, Activation, Flatten, Convolution2D,\\\n",
    " BatchNormalization, MaxPooling2D,Convolution3D,MaxPooling3D, Merge, Input, Merge\n",
    "from keras import regularizers\n",
    "from configparser import ConfigParser\n",
    "import resource\n",
    "import tables"
   ]
  },
  {
   "cell_type": "code",
   "execution_count": 36,
   "metadata": {
    "collapsed": true
   },
   "outputs": [],
   "source": [
    "file_handler = dataio.I3File('/data/ana/PointSource/PS/IC86_2012/files/sim/2012/neutrino-generator/11029/00000-00999/Final_v2_nugen_numu_IC86.2012.011029.000000.i3.bz2')"
   ]
  },
  {
   "cell_type": "code",
   "execution_count": 6,
   "metadata": {
    "collapsed": true
   },
   "outputs": [],
   "source": [
    "frame_handler = file_handler.pop_physics()"
   ]
  },
  {
   "cell_type": "code",
   "execution_count": 7,
   "metadata": {
    "collapsed": true
   },
   "outputs": [],
   "source": [
    "I3Tree = frame_handler['I3MCTree']\n",
    "MostEnergeticTrack = frame_handler['MCMostEnergeticTrack']"
   ]
  },
  {
   "cell_type": "code",
   "execution_count": 16,
   "metadata": {},
   "outputs": [
    {
     "name": "stdout",
     "output_type": "stream",
     "text": [
      "12533920294.4\n"
     ]
    }
   ],
   "source": [
    "print frame_handler['I3MCWeightDict']['OneWeight']"
   ]
  },
  {
   "cell_type": "code",
   "execution_count": 142,
   "metadata": {
    "collapsed": true,
    "scrolled": true
   },
   "outputs": [],
   "source": [
    "truncated_energy = 0\n",
    "for i in I3Tree:\n",
    "    interaction_type = str(i.type)\n",
    "    if interaction_type in ['DeltaE','PairProd','Brems','EMinus']:\n",
    "        truncated_energy += i.energy"
   ]
  },
  {
   "cell_type": "code",
   "execution_count": 143,
   "metadata": {},
   "outputs": [
    {
     "name": "stdout",
     "output_type": "stream",
     "text": [
      "835.002519335\n",
      "14050.1181641\n"
     ]
    }
   ],
   "source": [
    "print truncated_energy\n",
    "print MostEnergeticTrack.energy"
   ]
  },
  {
   "cell_type": "code",
   "execution_count": 118,
   "metadata": {},
   "outputs": [
    {
     "name": "stdout",
     "output_type": "stream",
     "text": [
      "41198 NuMu (159146m ,-6.30758e+06m ,-7.27702e+06m) (139.074deg ,271.448deg) -3.21153e+07ns 557.518GeV 9.63073e+06m \n",
      "  41199 MuMinus (-242.713m ,-631.156m ,-475.833m) (138.529deg ,271.754deg) 9322.57ns 422.342GeV 1093.75m \n",
      "    41202 PairProd (-243.023m ,-621.021m ,-464.361m) (138.529deg ,271.754deg) 9373.64ns 1.94884GeV 0m \n",
      "    41203 DeltaE (-243.342m ,-610.613m ,-452.58m) (138.529deg ,271.754deg) 9426.09ns 0.576262GeV 0m \n",
      "    41204 PairProd (-243.514m ,-604.997m ,-446.222m) (138.529deg ,271.754deg) 9454.39ns 27.467GeV 0m \n",
      "    41205 DeltaE (-243.871m ,-593.323m ,-433.008m) (138.529deg ,271.754deg) 9513.22ns 0.799563GeV 0m \n",
      "    41206 PairProd (-244.131m ,-584.833m ,-423.398m) (138.529deg ,271.754deg) 9556ns 3.02639GeV 0m \n",
      "    41207 DeltaE (-245.182m ,-550.506m ,-384.541m) (138.529deg ,271.754deg) 9728.98ns 0.821513GeV 0m \n",
      "    41208 DeltaE (-245.635m ,-535.711m ,-367.794m) (138.529deg ,271.754deg) 9803.54ns 1.06655GeV 0m \n",
      "    41209 DeltaE (-245.657m ,-535.002m ,-366.992m) (138.529deg ,271.754deg) 9807.11ns 1.29862GeV 0m \n",
      "    41210 DeltaE (-246.006m ,-523.614m ,-354.101m) (138.529deg ,271.754deg) 9864.49ns 0.785508GeV 0m \n",
      "    41211 DeltaE (-246.284m ,-514.521m ,-343.807m) (138.529deg ,271.754deg) 9910.32ns 0.753034GeV 0m \n",
      "    41212 DeltaE (-246.767m ,-498.755m ,-325.961m) (138.529deg ,271.754deg) 9989.76ns 0.580412GeV 0m \n",
      "    41213 PairProd (-247.263m ,-482.537m ,-307.603m) (138.529deg ,271.754deg) 10071.5ns 1.14808GeV 0m \n",
      "    41214 PairProd (-248.678m ,-436.338m ,-255.307m) (138.529deg ,271.754deg) 10304.3ns 0.991416GeV 0m \n",
      "    41215 DeltaE (-248.711m ,-435.254m ,-254.08m) (138.529deg ,271.754deg) 10309.8ns 0.835902GeV 0m \n",
      "    41216 DeltaE (-249.32m ,-415.369m ,-231.571m) (138.529deg ,271.754deg) 10410ns 1.01515GeV 0m \n",
      "    41217 PairProd (-249.496m ,-409.6m ,-225.042m) (138.529deg ,271.754deg) 10439ns 0.950047GeV 0m \n",
      "    41218 DeltaE (-249.533m ,-408.407m ,-223.69m) (138.529deg ,271.754deg) 10445ns 1.31391GeV 0m \n",
      "    41219 DeltaE (-249.891m ,-396.7m ,-210.439m) (138.529deg ,271.754deg) 10504ns 0.577687GeV 0m \n",
      "    93 NuclInt (-250.164m ,-387.79m ,-200.353m) (138.529deg ,271.754deg) 10548.9ns 0.997667GeV 0m \n",
      "      41220 EMinus (-250.164m ,-387.79m ,-200.353m) (138.529deg ,271.754deg) 10548.9ns 6.75901GeV 0m \n",
      "    41221 DeltaE (-251.184m ,-354.483m ,-162.651m) (138.529deg ,271.754deg) 10716.8ns 2.6117GeV 0m \n",
      "    41222 PairProd (-252.855m ,-299.91m ,-100.877m) (138.529deg ,271.754deg) 10991.8ns 1.4625GeV 0m \n",
      "    41223 PairProd (-254.72m ,-238.978m ,-31.9036m) (138.529deg ,271.754deg) 11298.8ns 0.629658GeV 0m \n",
      "    41224 DeltaE (-254.734m ,-238.536m ,-31.4032m) (138.529deg ,271.754deg) 11301.1ns 7.74604GeV 0m \n",
      "    41225 DeltaE (-254.776m ,-237.17m ,-29.8571m) (138.529deg ,271.754deg) 11307.9ns 0.889413GeV 0m \n",
      "    94 NuclInt (-254.907m ,-232.88m ,-25.0008m) (138.529deg ,271.754deg) 11329.6ns 101.596GeV 0m \n",
      "      41226 EMinus (-254.907m ,-232.88m ,-25.0008m) (138.529deg ,271.754deg) 11329.6ns 73.8511GeV 0m \n",
      "    41227 DeltaE (-256.389m ,-184.491m ,29.7729m) (138.529deg ,271.754deg) 11573.4ns 0.770231GeV 0m \n",
      "    41228 DeltaE (-256.862m ,-169.042m ,47.2608m) (138.529deg ,271.754deg) 11651.3ns 1.90816GeV 0m \n",
      "    41229 DeltaE (-257.804m ,-138.271m ,82.092m) (138.529deg ,271.754deg) 11806.3ns 1.1446GeV 0m \n",
      "    41230 PairProd (-258.211m ,-124.97m ,97.1484m) (138.529deg ,271.754deg) 11873.3ns 1.3308GeV 0m \n",
      "    41231 DeltaE (-261.096m ,-30.7542m ,203.797m) (138.529deg ,271.754deg) 12348.1ns 0.569861GeV 0m \n",
      "    41232 DeltaE (-261.578m ,-15.0049m ,221.625m) (138.529deg ,271.754deg) 12427.5ns 1.24261GeV 0m \n",
      "    41233 DeltaE (-262.145m ,3.53632m ,242.613m) (138.529deg ,271.754deg) 12520.9ns 6.19876GeV 0m \n",
      "    41234 EMinus (-264.88m ,92.8385m ,343.699m) (138.529deg ,271.754deg) 16072.3ns 0.0178986GeV 0m \n",
      "  95 Hadrons (-242.713m ,-631.156m ,-475.833m) (139.074deg ,271.448deg) 9322.57ns 135.176GeV 0m \n",
      "    41200 EMinus (-242.713m ,-631.156m ,-475.833m) (139.074deg ,271.448deg) 9322.57ns 111.117GeV 0m \n",
      "\n"
     ]
    }
   ],
   "source": [
    "print I3Tree"
   ]
  },
  {
   "cell_type": "markdown",
   "metadata": {
    "collapsed": true
   },
   "source": [
    "# Test Model"
   ]
  },
  {
   "cell_type": "code",
   "execution_count": 4,
   "metadata": {
    "collapsed": true
   },
   "outputs": [],
   "source": [
    "def add_layer(model, layer, args, kwargs):\n",
    "    eval('model.add({}(*args,**kwargs))'.format(layer))\n",
    "    return\n",
    "\n",
    "def base_model(conf_model_file):\n",
    "  inp_shape = []\n",
    "  with open(conf_model_file) as f:\n",
    "      args = []\n",
    "      kwargs = dict()\n",
    "      layer = ''\n",
    "      mode = 'args'\n",
    "      models = dict()\n",
    "      cur_model = None\n",
    "      cur_model_name = ''\n",
    "      for line in f:\n",
    "          cur_line = line.strip()\n",
    "          if cur_model_name =='' and not cur_line == '':\n",
    "            cur_model = Sequential()\n",
    "            if cur_line[0]=='{' and cur_line[-1]=='}':\n",
    "                cur_model_name = cur_line[1:-1]\n",
    "            else:\n",
    "                cur_model_name = 'model'                    \n",
    "          if cur_line=='' and layer!='':\n",
    "              if not layer == 'Merge':\n",
    "                  add_layer(cur_model, layer, args,kwargs)\n",
    "                  if 'input_shape' in kwargs.keys():\n",
    "                      inp_shape.append(kwargs['input_shape'])\n",
    "              else:\n",
    "                  merge_layer_names = [name.strip() for name in kwargs['layers'][1:-1].split(',')]\n",
    "                  kwargs = dict()\n",
    "                  kwargs['mode']='concat'\n",
    "                  add_layer(cur_model, layer,[[models[name] for name in merge_layer_names]], kwargs)\n",
    "                  for name in merge_layer_names:\n",
    "                    del models[name] \n",
    "              args = []\n",
    "              kwargs = dict()\n",
    "              mode = 'args'\n",
    "              layer = ''\n",
    "          elif cur_line == '' and layer == '':\n",
    "            continue\n",
    "          elif cur_line[0]=='{' and cur_line[-1]=='}':\n",
    "              print(cur_model.summary())\n",
    "              models[cur_model_name] = cur_model\n",
    "              cur_model = Sequential()\n",
    "              cur_model_name = cur_line[1:-1]\n",
    "          elif cur_line[0] == '#':\n",
    "              continue\n",
    "          elif cur_line == '[kwargs]':\n",
    "              mode = 'kwargs'\n",
    "          elif layer == '':\n",
    "              layer = cur_line[1:-1]\n",
    "          elif mode == 'args':\n",
    "              try:\n",
    "                  args.append(eval(cur_line.split('=')[1].strip()))\n",
    "              except:\n",
    "                  args.append(cur_line.split('=')[1].strip())\n",
    "          elif mode == 'kwargs':\n",
    "              split_line = cur_line.split('=')\n",
    "              try:\n",
    "                  kwargs[split_line[0].strip()] = eval(split_line[1].strip())\n",
    "              except:\n",
    "                  kwargs[split_line[0].strip()] = split_line[1].strip()\n",
    "      if layer != '':\n",
    "          add_layer(cur_model, layer, args,kwargs)\n",
    "      models[cur_model_name] = cur_model\n",
    "  print(cur_model.summary())      \n",
    "  return models[models.keys()[0]], eval(str(inp_shape))"
   ]
  },
  {
   "cell_type": "code",
   "execution_count": 2,
   "metadata": {
    "collapsed": true
   },
   "outputs": [],
   "source": [
    "conf_model_file = os.path.join('.', 'Networks', 'test.cfg')"
   ]
  },
  {
   "cell_type": "code",
   "execution_count": 6,
   "metadata": {},
   "outputs": [
    {
     "ename": "NameError",
     "evalue": "name 'Settings' is not defined",
     "output_type": "error",
     "traceback": [
      "\u001b[0;31m---------------------------------------------------------------------------\u001b[0m",
      "\u001b[0;31mNameError\u001b[0m                                 Traceback (most recent call last)",
      "\u001b[0;32m<ipython-input-6-0a4a267d896c>\u001b[0m in \u001b[0;36m<module>\u001b[0;34m()\u001b[0m\n\u001b[0;32m----> 1\u001b[0;31m \u001b[0mmodel\u001b[0m \u001b[0;34m,\u001b[0m \u001b[0minp_shape\u001b[0m \u001b[0;34m=\u001b[0m \u001b[0mbase_model\u001b[0m\u001b[0;34m(\u001b[0m\u001b[0mconf_model_file\u001b[0m\u001b[0;34m)\u001b[0m\u001b[0;34m\u001b[0m\u001b[0m\n\u001b[0m",
      "\u001b[0;32m<ipython-input-4-586be40eed5f>\u001b[0m in \u001b[0;36mbase_model\u001b[0;34m(conf_model_file)\u001b[0m\n\u001b[1;32m     23\u001b[0m           \u001b[0;32mif\u001b[0m \u001b[0mcur_line\u001b[0m\u001b[0;34m==\u001b[0m\u001b[0;34m''\u001b[0m \u001b[0;32mand\u001b[0m \u001b[0mlayer\u001b[0m\u001b[0;34m!=\u001b[0m\u001b[0;34m''\u001b[0m\u001b[0;34m:\u001b[0m\u001b[0;34m\u001b[0m\u001b[0m\n\u001b[1;32m     24\u001b[0m               \u001b[0;32mif\u001b[0m \u001b[0;32mnot\u001b[0m \u001b[0mlayer\u001b[0m \u001b[0;34m==\u001b[0m \u001b[0;34m'Merge'\u001b[0m\u001b[0;34m:\u001b[0m\u001b[0;34m\u001b[0m\u001b[0m\n\u001b[0;32m---> 25\u001b[0;31m                   \u001b[0madd_layer\u001b[0m\u001b[0;34m(\u001b[0m\u001b[0mcur_model\u001b[0m\u001b[0;34m,\u001b[0m \u001b[0mlayer\u001b[0m\u001b[0;34m,\u001b[0m \u001b[0margs\u001b[0m\u001b[0;34m,\u001b[0m\u001b[0mkwargs\u001b[0m\u001b[0;34m)\u001b[0m\u001b[0;34m\u001b[0m\u001b[0m\n\u001b[0m\u001b[1;32m     26\u001b[0m                   \u001b[0;32mif\u001b[0m \u001b[0;34m'input_shape'\u001b[0m \u001b[0;32min\u001b[0m \u001b[0mkwargs\u001b[0m\u001b[0;34m.\u001b[0m\u001b[0mkeys\u001b[0m\u001b[0;34m(\u001b[0m\u001b[0;34m)\u001b[0m\u001b[0;34m:\u001b[0m\u001b[0;34m\u001b[0m\u001b[0m\n\u001b[1;32m     27\u001b[0m                       \u001b[0minp_shape\u001b[0m\u001b[0;34m.\u001b[0m\u001b[0mappend\u001b[0m\u001b[0;34m(\u001b[0m\u001b[0mkwargs\u001b[0m\u001b[0;34m[\u001b[0m\u001b[0;34m'input_shape'\u001b[0m\u001b[0;34m]\u001b[0m\u001b[0;34m)\u001b[0m\u001b[0;34m\u001b[0m\u001b[0m\n",
      "\u001b[0;32m<ipython-input-4-586be40eed5f>\u001b[0m in \u001b[0;36madd_layer\u001b[0;34m(model, layer, args, kwargs)\u001b[0m\n\u001b[1;32m      1\u001b[0m \u001b[0;32mdef\u001b[0m \u001b[0madd_layer\u001b[0m\u001b[0;34m(\u001b[0m\u001b[0mmodel\u001b[0m\u001b[0;34m,\u001b[0m \u001b[0mlayer\u001b[0m\u001b[0;34m,\u001b[0m \u001b[0margs\u001b[0m\u001b[0;34m,\u001b[0m \u001b[0mkwargs\u001b[0m\u001b[0;34m)\u001b[0m\u001b[0;34m:\u001b[0m\u001b[0;34m\u001b[0m\u001b[0m\n\u001b[0;32m----> 2\u001b[0;31m     \u001b[0meval\u001b[0m\u001b[0;34m(\u001b[0m\u001b[0;34m'model.add({}(*args,**kwargs))'\u001b[0m\u001b[0;34m.\u001b[0m\u001b[0mformat\u001b[0m\u001b[0;34m(\u001b[0m\u001b[0mlayer\u001b[0m\u001b[0;34m)\u001b[0m\u001b[0;34m)\u001b[0m\u001b[0;34m\u001b[0m\u001b[0m\n\u001b[0m\u001b[1;32m      3\u001b[0m     \u001b[0;32mreturn\u001b[0m\u001b[0;34m\u001b[0m\u001b[0m\n\u001b[1;32m      4\u001b[0m \u001b[0;34m\u001b[0m\u001b[0m\n\u001b[1;32m      5\u001b[0m \u001b[0;32mdef\u001b[0m \u001b[0mbase_model\u001b[0m\u001b[0;34m(\u001b[0m\u001b[0mconf_model_file\u001b[0m\u001b[0;34m)\u001b[0m\u001b[0;34m:\u001b[0m\u001b[0;34m\u001b[0m\u001b[0m\n",
      "\u001b[0;32m<string>\u001b[0m in \u001b[0;36m<module>\u001b[0;34m()\u001b[0m\n",
      "\u001b[0;31mNameError\u001b[0m: name 'Settings' is not defined"
     ]
    }
   ],
   "source": [
    "model , inp_shape = base_model(conf_model_file)"
   ]
  },
  {
   "cell_type": "code",
   "execution_count": 135,
   "metadata": {},
   "outputs": [
    {
     "name": "stdout",
     "output_type": "stream",
     "text": [
      "[(20, 10, 60, 1), (1,)]\n"
     ]
    }
   ],
   "source": [
    "print inp_shape"
   ]
  },
  {
   "cell_type": "code",
   "execution_count": 101,
   "metadata": {
    "collapsed": true
   },
   "outputs": [],
   "source": [
    "adam = keras.optimizers.Adam(lr=0.001)\n",
    "model.compile(loss='mean_squared_error', optimizer=adam, metrics=['accuracy'])"
   ]
  },
  {
   "cell_type": "code",
   "execution_count": 102,
   "metadata": {},
   "outputs": [
    {
     "name": "stdout",
     "output_type": "stream",
     "text": [
      "_________________________________________________________________\n",
      "Layer (type)                 Output Shape              Param #   \n",
      "=================================================================\n",
      "merge_23 (Merge)             (None, 4001)              0         \n",
      "_________________________________________________________________\n",
      "dense_93 (Dense)             (None, 1)                 4002      \n",
      "=================================================================\n",
      "Total params: 63,237\n",
      "Trainable params: 63,045\n",
      "Non-trainable params: 192\n",
      "_________________________________________________________________\n",
      "None\n"
     ]
    }
   ],
   "source": [
    "print model.summary()"
   ]
  },
  {
   "cell_type": "code",
   "execution_count": 16,
   "metadata": {},
   "outputs": [
    {
     "name": "stderr",
     "output_type": "stream",
     "text": [
      "/usr/local/lib/python2.7/site-packages/ipykernel_launcher.py:2: UserWarning: Update your `Dense` call to the Keras 2 API: `Dense(1, activation=\"relu\", kernel_initializer=\"normal\", input_shape=(1,))`\n",
      "  \n",
      "/usr/local/lib/python2.7/site-packages/ipykernel_launcher.py:5: UserWarning: Update your `Dense` call to the Keras 2 API: `Dense(4, activation=\"relu\", kernel_initializer=\"normal\", input_shape=(4,))`\n",
      "  \"\"\"\n",
      "/usr/local/lib/python2.7/site-packages/ipykernel_launcher.py:7: UserWarning: Update your `Dense` call to the Keras 2 API: `Dense(4, activation=\"relu\", kernel_initializer=\"normal\")`\n",
      "  import sys\n",
      "/usr/local/lib/python2.7/site-packages/ipykernel_launcher.py:9: UserWarning: Update your `Dense` call to the Keras 2 API: `Dense(4, activation=\"relu\", kernel_initializer=\"normal\")`\n",
      "  if __name__ == '__main__':\n",
      "/usr/local/lib/python2.7/site-packages/ipykernel_launcher.py:13: UserWarning: The `Merge` layer is deprecated and will be removed after 08/2017. Use instead layers from `keras.layers.merge`, e.g. `add`, `concatenate`, etc.\n",
      "  del sys.path[0]\n"
     ]
    }
   ],
   "source": [
    "branch1 = Sequential()\n",
    "branch1.add(Dense(1, input_shape =  (1,), init = 'normal', activation = 'relu'))\n",
    "\n",
    "branch2 = Sequential()\n",
    "branch2.add(Dense(4, input_shape =  (4,), init = 'normal', activation = 'relu'))\n",
    "branch2.add(BatchNormalization())\n",
    "branch2.add(Dense(4, init = 'normal', activation = 'relu'))\n",
    "branch2.add(BatchNormalization())\n",
    "branch2.add(Dense(4, init = 'normal', activation = 'relu'))\n",
    "branch2.add(BatchNormalization())\n",
    "            \n",
    "model = Sequential()\n",
    "model.add(Merge([branch1, branch2], mode = 'concat'))"
   ]
  },
  {
   "cell_type": "code",
   "execution_count": 17,
   "metadata": {},
   "outputs": [
    {
     "name": "stdout",
     "output_type": "stream",
     "text": [
      "_________________________________________________________________\n",
      "Layer (type)                 Output Shape              Param #   \n",
      "=================================================================\n",
      "merge_3 (Merge)              (None, 5)                 0         \n",
      "=================================================================\n",
      "Total params: 110\n",
      "Trainable params: 86\n",
      "Non-trainable params: 24\n",
      "_________________________________________________________________\n",
      "None\n"
     ]
    }
   ],
   "source": [
    "print model.summary()"
   ]
  },
  {
   "cell_type": "code",
   "execution_count": 12,
   "metadata": {
    "collapsed": true
   },
   "outputs": [],
   "source": [
    "models = dict()"
   ]
  },
  {
   "cell_type": "code",
   "execution_count": 15,
   "metadata": {},
   "outputs": [
    {
     "name": "stdout",
     "output_type": "stream",
     "text": [
      "1\n"
     ]
    }
   ],
   "source": [
    "print len(models)"
   ]
  },
  {
   "cell_type": "code",
   "execution_count": 14,
   "metadata": {
    "collapsed": true
   },
   "outputs": [],
   "source": [
    "models['test'] = 2"
   ]
  },
  {
   "cell_type": "code",
   "execution_count": 48,
   "metadata": {
    "collapsed": true
   },
   "outputs": [],
   "source": []
  },
  {
   "cell_type": "code",
   "execution_count": 49,
   "metadata": {
    "collapsed": true
   },
   "outputs": [],
   "source": []
  },
  {
   "cell_type": "code",
   "execution_count": 3,
   "metadata": {
    "collapsed": true
   },
   "outputs": [],
   "source": [
    "f = open(conf_model_file)\n",
    "config_array = f.read().splitlines()\n",
    "config_blocks = []\n",
    "single_block = []\n",
    "for line in config_array:\n",
    "    if line=='':\n",
    "        config_blocks.append(single_block)\n",
    "        single_block = []\n",
    "    else:\n",
    "        single_block.append(line)\n",
    "settings =[]\n",
    "model = []\n",
    "mode = ''\n",
    "for block in config_blocks:\n",
    "    if mode =='' or block[0][0]=='*':\n",
    "        if block[0] == '*Settings*':\n",
    "            mode = 'settings'\n",
    "        elif block[0] == '*Model*':\n",
    "            mode = 'model'\n",
    "        else:\n",
    "            raise Exception('config file is corrupted')\n",
    "    else:\n",
    "        if mode=='settings':\n",
    "            settings.append(block)\n",
    "        elif mode=='model':\n",
    "            model.append(block)"
   ]
  },
  {
   "cell_type": "code",
   "execution_count": null,
   "metadata": {
    "collapsed": true
   },
   "outputs": [],
   "source": [
    "\n",
    "            "
   ]
  },
  {
   "cell_type": "code",
   "execution_count": 4,
   "metadata": {
    "collapsed": true
   },
   "outputs": [],
   "source": [
    "model_settings = settings"
   ]
  },
  {
   "cell_type": "code",
   "execution_count": 5,
   "metadata": {},
   "outputs": [
    {
     "name": "stdout",
     "output_type": "stream",
     "text": [
      "[['{Inputs}'], ['[Branch1]', 'variables = charge,time', 'transformations = (x-np.mean(x))/np.std(x), x'], ['[Branch2]', 'variables = charge', 'transformations = np.sum(x)'], ['{Outputs}', 'variables = np.log10(energy)']]\n"
     ]
    }
   ],
   "source": [
    "print model_settings"
   ]
  },
  {
   "cell_type": "code",
   "execution_count": 6,
   "metadata": {
    "collapsed": true
   },
   "outputs": [],
   "source": [
    "inp_variables = []\n",
    "transformations = []\n",
    "shapes = []\n",
    "shape_names = []\n",
    "mode == ''\n",
    "if len(model_settings) == 0:\n",
    "    model_settings = [['{Inputs}'], ['[model]', 'variables = [charge]', 'transformations = [x]']]\n",
    "for block in model_settings:\n",
    "    if block[0][0]=='{' and block[0][-1]=='}':\n",
    "        mode=block[0][1:-1]\n",
    "        continue\n",
    "    if mode == 'Inputs':\n",
    "        for element in block:\n",
    "            if element[0]=='[' and element[-1]==']':\n",
    "                shape_names.append(element[1:-1])\n",
    "            else:\n",
    "                split_row = element.split('=')\n",
    "                if split_row[0].strip() == 'variables':\n",
    "                    inp_variables.append(split_row[1].strip().split(','))\n",
    "                elif split_row[0].strip() == 'transformations':\n",
    "                    transformations.append(split_row[1].strip().split(','))\n",
    "    else:\n",
    "        continue\n",
    "        \n",
    "# for i in range(len(shape_names)):\n",
    "#     temp_shape_arr = []\n",
    "#     for j in range(len(inp_variables[i])):\n",
    "#         temp_shape_arr.append('test')\n",
    "#         if len(np.unique(temp_shape_arr))==1:\n",
    "#             shapes.append(temp_shape_arr[0:-1]+(len(temp_shape_arr),))\n",
    "#         else:\n",
    "#             raise Expection('The transformations that you applied do not results in the same shape!!!!')\n",
    "            \n",
    "        \n",
    "\n",
    "\n",
    "                \n",
    "                \n",
    "                "
   ]
  },
  {
   "cell_type": "code",
   "execution_count": 7,
   "metadata": {},
   "outputs": [
    {
     "name": "stdout",
     "output_type": "stream",
     "text": [
      "['Branch1', 'Branch2']\n",
      "[['charge', 'time'], ['charge']]\n",
      "[['(x-np.mean(x))/np.std(x)', ' x'], ['np.sum(x)']]\n"
     ]
    }
   ],
   "source": [
    "print shape_names\n",
    "print inp_variables\n",
    "print transformations\n"
   ]
  },
  {
   "cell_type": "code",
   "execution_count": 63,
   "metadata": {
    "collapsed": true
   },
   "outputs": [],
   "source": [
    "def base_model(model_def):\n",
    "    models = dict()\n",
    "    cur_model = None\n",
    "    cur_model_name = ''\n",
    "    for block in model_def:\n",
    "        if block[0][0] == '{' and block[0][-1] == '}' or cur_model == None:\n",
    "            if cur_model != None:\n",
    "                print(cur_model.summary())\n",
    "                models[cur_model_name] = cur_model    \n",
    "            cur_model = Sequential()\n",
    "            if block[0][0] == '{' and block[0][-1] == '}':\n",
    "                cur_model_name = block[0][1:-1]\n",
    "            else:\n",
    "                cur_model_name = 'model'   \n",
    "        if block[0][0] == '[' and block[0][-1] == ']':\n",
    "            args = []\n",
    "            kwargs = dict()\n",
    "            layer = ''\n",
    "            mode = 'args'\n",
    "            layer=block[0][1:-1]\n",
    "            for i in range(1,len(block)):\n",
    "                if block[i]=='[kwargs]':\n",
    "                    mode = 'kwargs'\n",
    "                elif mode == 'args':\n",
    "                    try:\n",
    "                        args.append(eval(block[i].split('=')[1].strip()))\n",
    "                    except:\n",
    "                        args.append(block[i].split('=')[1].strip())\n",
    "                elif mode == 'kwargs':\n",
    "                    split_line = block[i].split('=')\n",
    "                    try:\n",
    "                        kwargs[split_line[0].strip()] = eval(split_line[1].strip())\n",
    "                    except:\n",
    "                        kwargs[split_line[0].strip()] = split_line[1].strip()   \n",
    "            if not layer == 'Merge':\n",
    "                add_layer(cur_model, layer, args,kwargs)\n",
    "            else:\n",
    "                merge_layer_names = [name.strip() for name in kwargs['layers'][1:-1].split(',')]\n",
    "                kwargs = dict()\n",
    "                kwargs['mode']='concat'\n",
    "                add_layer(cur_model, layer,[[models[name] for name in merge_layer_names]], kwargs)\n",
    "                for name in merge_layer_names:\n",
    "                    del models[name] \n",
    "    print(cur_model.summary())\n",
    "    models[cur_model_name] = cur_model  \n",
    "    return cur_model"
   ]
  },
  {
   "cell_type": "code",
   "execution_count": 62,
   "metadata": {},
   "outputs": [
    {
     "name": "stdout",
     "output_type": "stream",
     "text": [
      "_________________________________________________________________\n",
      "Layer (type)                 Output Shape              Param #   \n",
      "=================================================================\n",
      "conv3d_5 (Conv3D)            (None, 10, 10, 10, 64)    3136      \n",
      "_________________________________________________________________\n",
      "batch_normalization_5 (Batch (None, 10, 10, 10, 64)    256       \n",
      "_________________________________________________________________\n",
      "activation_5 (Activation)    (None, 10, 10, 10, 64)    0         \n",
      "_________________________________________________________________\n",
      "dropout_3 (Dropout)          (None, 10, 10, 10, 64)    0         \n",
      "_________________________________________________________________\n",
      "conv3d_6 (Conv3D)            (None, 10, 10, 10, 32)    55328     \n",
      "_________________________________________________________________\n",
      "batch_normalization_6 (Batch (None, 10, 10, 10, 32)    128       \n",
      "_________________________________________________________________\n",
      "activation_6 (Activation)    (None, 10, 10, 10, 32)    0         \n",
      "_________________________________________________________________\n",
      "max_pooling3d_3 (MaxPooling3 (None, 5, 5, 5, 32)       0         \n",
      "_________________________________________________________________\n",
      "flatten_3 (Flatten)          (None, 4000)              0         \n",
      "=================================================================\n",
      "Total params: 58,848\n",
      "Trainable params: 58,656\n",
      "Non-trainable params: 192\n",
      "_________________________________________________________________\n",
      "None\n",
      "_________________________________________________________________\n",
      "Layer (type)                 Output Shape              Param #   \n",
      "=================================================================\n",
      "dense_4 (Dense)              (None, 1)                 2         \n",
      "=================================================================\n",
      "Total params: 2\n",
      "Trainable params: 2\n",
      "Non-trainable params: 0\n",
      "_________________________________________________________________\n",
      "None\n",
      "_________________________________________________________________\n",
      "Layer (type)                 Output Shape              Param #   \n",
      "=================================================================\n",
      "merge_3 (Merge)              (None, 4001)              0         \n",
      "_________________________________________________________________\n",
      "dense_5 (Dense)              (None, 1)                 4002      \n",
      "=================================================================\n",
      "Total params: 62,852\n",
      "Trainable params: 62,660\n",
      "Non-trainable params: 192\n",
      "_________________________________________________________________\n",
      "None\n"
     ]
    },
    {
     "name": "stderr",
     "output_type": "stream",
     "text": [
      "/usr/local/lib/python2.7/site-packages/ipykernel_launcher.py:1: UserWarning: The `Merge` layer is deprecated and will be removed after 08/2017. Use instead layers from `keras.layers.merge`, e.g. `add`, `concatenate`, etc.\n",
      "  \"\"\"Entry point for launching an IPython kernel.\n"
     ]
    },
    {
     "data": {
      "text/plain": [
       "<keras.models.Sequential at 0x1158769d0>"
      ]
     },
     "execution_count": 62,
     "metadata": {},
     "output_type": "execute_result"
    }
   ],
   "source": [
    "base_model(model)"
   ]
  },
  {
   "cell_type": "code",
   "execution_count": 73,
   "metadata": {
    "collapsed": true
   },
   "outputs": [],
   "source": [
    "test = (1,2,3)"
   ]
  },
  {
   "cell_type": "code",
   "execution_count": 69,
   "metadata": {},
   "outputs": [
    {
     "data": {
      "text/plain": [
       "(0, 1, 2, 3)"
      ]
     },
     "execution_count": 69,
     "metadata": {},
     "output_type": "execute_result"
    }
   ],
   "source": [
    "(0,)+test"
   ]
  },
  {
   "cell_type": "code",
   "execution_count": 84,
   "metadata": {},
   "outputs": [
    {
     "data": {
      "text/plain": [
       "(1, 2, 2)"
      ]
     },
     "execution_count": 84,
     "metadata": {},
     "output_type": "execute_result"
    }
   ],
   "source": [
    "test[0:-1]+(2,)"
   ]
  },
  {
   "cell_type": "code",
   "execution_count": 42,
   "metadata": {
    "collapsed": true
   },
   "outputs": [],
   "source": [
    "import h5py"
   ]
  },
  {
   "cell_type": "code",
   "execution_count": 54,
   "metadata": {
    "collapsed": true
   },
   "outputs": [],
   "source": [
    "hfile = h5py.File('./training_data/11069_06000-06999.h5')\n",
    "pyh5file = tables.open_file('./training_data/11069_06000-06999.h5', 'r')"
   ]
  },
  {
   "cell_type": "code",
   "execution_count": 3,
   "metadata": {
    "collapsed": true
   },
   "outputs": [],
   "source": [
    "parser = ConfigParser()"
   ]
  },
  {
   "cell_type": "code",
   "execution_count": 4,
   "metadata": {},
   "outputs": [
    {
     "name": "stderr",
     "output_type": "stream",
     "text": [
      "/usr/local/lib/python2.7/site-packages/ipykernel_launcher.py:1: DeprecationWarning: You passed a bytestring as `filenames`. This will not work on Python 3. Use `cp.read_file()` or switch to using Unicode strings across the board.\n",
      "  \"\"\"Entry point for launching an IPython kernel.\n"
     ]
    },
    {
     "data": {
      "text/plain": [
       "['config.cfg']"
      ]
     },
     "execution_count": 4,
     "metadata": {},
     "output_type": "execute_result"
    }
   ],
   "source": [
    "parser.read('config.cfg')"
   ]
  },
  {
   "cell_type": "code",
   "execution_count": 64,
   "metadata": {
    "collapsed": true
   },
   "outputs": [],
   "source": [
    "test = hfile['reco_vals'][0:10]"
   ]
  },
  {
   "cell_type": "code",
   "execution_count": 65,
   "metadata": {},
   "outputs": [
    {
     "name": "stdout",
     "output_type": "stream",
     "text": [
      "[ 1255446.95250087    62737.8540757     11590.39518676    12298.58372246\n",
      "    37500.921875     113917.40066847   449789.1281364    185191.82143345\n",
      "   174527.04305926  1563133.19498762]\n"
     ]
    }
   ],
   "source": [
    "print test['energy']"
   ]
  },
  {
   "cell_type": "code",
   "execution_count": 36,
   "metadata": {
    "collapsed": true
   },
   "outputs": [],
   "source": [
    "a = parser['azimuth']"
   ]
  },
  {
   "cell_type": "code",
   "execution_count": 20,
   "metadata": {},
   "outputs": [
    {
     "ename": "ClosedNodeError",
     "evalue": "the node object is closed",
     "output_type": "error",
     "traceback": [
      "\u001b[0;31m---------------------------------------------------------------------------\u001b[0m",
      "\u001b[0;31mClosedNodeError\u001b[0m                           Traceback (most recent call last)",
      "\u001b[0;32m<ipython-input-20-2b0a929170d1>\u001b[0m in \u001b[0;36m<module>\u001b[0;34m()\u001b[0m\n\u001b[0;32m----> 1\u001b[0;31m \u001b[0;32mprint\u001b[0m \u001b[0ma\u001b[0m\u001b[0;34m[\u001b[0m\u001b[0;34m'out_type'\u001b[0m\u001b[0;34m]\u001b[0m\u001b[0;34m\u001b[0m\u001b[0m\n\u001b[0m",
      "\u001b[0;32m/usr/local/lib/python2.7/site-packages/tables/table.pyc\u001b[0m in \u001b[0;36m__getitem__\u001b[0;34m(self, key)\u001b[0m\n\u001b[1;32m   2057\u001b[0m         \"\"\"\n\u001b[1;32m   2058\u001b[0m \u001b[0;34m\u001b[0m\u001b[0m\n\u001b[0;32m-> 2059\u001b[0;31m         \u001b[0mself\u001b[0m\u001b[0;34m.\u001b[0m\u001b[0m_g_check_open\u001b[0m\u001b[0;34m(\u001b[0m\u001b[0;34m)\u001b[0m\u001b[0;34m\u001b[0m\u001b[0m\n\u001b[0m\u001b[1;32m   2060\u001b[0m \u001b[0;34m\u001b[0m\u001b[0m\n\u001b[1;32m   2061\u001b[0m         \u001b[0;32mif\u001b[0m \u001b[0mis_idx\u001b[0m\u001b[0;34m(\u001b[0m\u001b[0mkey\u001b[0m\u001b[0;34m)\u001b[0m\u001b[0;34m:\u001b[0m\u001b[0;34m\u001b[0m\u001b[0m\n",
      "\u001b[0;32m/usr/local/lib/python2.7/site-packages/tables/node.pyc\u001b[0m in \u001b[0;36m_g_check_open\u001b[0;34m(self)\u001b[0m\n\u001b[1;32m    342\u001b[0m \u001b[0;34m\u001b[0m\u001b[0m\n\u001b[1;32m    343\u001b[0m         \u001b[0;32mif\u001b[0m \u001b[0;32mnot\u001b[0m \u001b[0mself\u001b[0m\u001b[0;34m.\u001b[0m\u001b[0m_v_isopen\u001b[0m\u001b[0;34m:\u001b[0m\u001b[0;34m\u001b[0m\u001b[0m\n\u001b[0;32m--> 344\u001b[0;31m             \u001b[0;32mraise\u001b[0m \u001b[0mClosedNodeError\u001b[0m\u001b[0;34m(\u001b[0m\u001b[0;34m\"the node object is closed\"\u001b[0m\u001b[0;34m)\u001b[0m\u001b[0;34m\u001b[0m\u001b[0m\n\u001b[0m\u001b[1;32m    345\u001b[0m         \u001b[0;32massert\u001b[0m \u001b[0mself\u001b[0m\u001b[0;34m.\u001b[0m\u001b[0m_v_file\u001b[0m\u001b[0;34m.\u001b[0m\u001b[0misopen\u001b[0m\u001b[0;34m,\u001b[0m \u001b[0;34m\"found an open node in a closed file\"\u001b[0m\u001b[0;34m\u001b[0m\u001b[0m\n\u001b[1;32m    346\u001b[0m \u001b[0;34m\u001b[0m\u001b[0m\n",
      "\u001b[0;31mClosedNodeError\u001b[0m: the node object is closed"
     ]
    }
   ],
   "source": [
    "print a['out_type']"
   ]
  },
  {
   "cell_type": "code",
   "execution_count": 38,
   "metadata": {
    "collapsed": true
   },
   "outputs": [],
   "source": [
    "import tables"
   ]
  },
  {
   "cell_type": "code",
   "execution_count": null,
   "metadata": {
    "collapsed": true
   },
   "outputs": [],
   "source": [
    "os.makedirs('./bla1/bla2/bla3/')"
   ]
  },
  {
   "cell_type": "code",
   "execution_count": 67,
   "metadata": {},
   "outputs": [
    {
     "name": "stdout",
     "output_type": "stream",
     "text": [
      "[u'variable', u'out_type']\n",
      "[u'variable', u'out_type']\n",
      "[u'variable', u'out_type']\n",
      "[u'variable', u'out_type']\n",
      "[u'function', u'out_type']\n",
      "[u'variable', u'out_type', u'min', u'max']\n"
     ]
    }
   ],
   "source": [
    "dtype = []\n",
    "data_source = []\n",
    "for i, key in enumerate(parser.keys()):\n",
    "    if key == 'DEFAULT' or key =='Basics':\n",
    "        continue\n",
    "    cut = [-np.inf, np.inf]\n",
    "    print parser[key].keys()\n",
    "    if 'min' in parser[key].keys():\n",
    "        cut[0] = eval(parser[key]['min'])\n",
    "    if 'max' in parser[key].keys():\n",
    "        cut[1] = eval(parser[key]['max'])  \n",
    "    if 'variable' in parser[key].keys():\n",
    "        data_source.append(('variable', parser[key]['variable'], cut))\n",
    "    elif 'function' in parser[key].keys():\n",
    "        data_source.append(('function', parser[key]['function']))        \n",
    "    dtype.append((str(key), eval('np.'+parser[key]['out_type'])))\n",
    "dtype=np.dtype(dtype)"
   ]
  },
  {
   "cell_type": "code",
   "execution_count": 68,
   "metadata": {},
   "outputs": [
    {
     "name": "stdout",
     "output_type": "stream",
     "text": [
      "[('variable', u\"['MCMostEnergeticTrack'].dir.azimuth\", [-inf, inf]), ('variable', u\"['MCMostEnergeticTrack'].dir.zenith\", [-inf, inf]), ('variable', u\"['SplineMPEMuEXDifferential'].energy\", [-inf, inf]), ('variable', u\"['I3MCWeightDict']['OneWeight']\", [-inf, inf]), ('function', u'calc_depositedE(x)'), ('variable', u\"['MCMostEnergeticTrack'].energy\", [100, 1000000000.0])]\n"
     ]
    }
   ],
   "source": [
    "print data_source"
   ]
  },
  {
   "cell_type": "code",
   "execution_count": 18,
   "metadata": {
    "collapsed": true
   },
   "outputs": [],
   "source": [
    "if os.path.exists('test.h5'):\n",
    "    os.remove('test.h5')\n",
    "h5file = tables.open_file('test.h5', mode = \"w\", title = \"Events for training the NN\")"
   ]
  },
  {
   "cell_type": "code",
   "execution_count": 19,
   "metadata": {
    "collapsed": true
   },
   "outputs": [],
   "source": [
    "h5file.root._v_attrs.shape = (1,1,1)\n",
    "h5file.root._v_attrs.len = 10000"
   ]
  },
  {
   "cell_type": "code",
   "execution_count": 20,
   "metadata": {
    "collapsed": true
   },
   "outputs": [],
   "source": [
    "reco_vals = tables.Table(h5file.root, 'reco_vals', description = dtype)\n",
    "reco_vals.append(np.array([1.,2.,3.,.4,5.,6.]))\n",
    "reco_vals.append(np.array([5.,6.,7.,8.,9.,16.]))\n",
    "reco_vals.append(np.random.normal(-1,1, size=6))"
   ]
  },
  {
   "cell_type": "code",
   "execution_count": 21,
   "metadata": {
    "collapsed": true
   },
   "outputs": [],
   "source": [
    "h5file.close()"
   ]
  },
  {
   "cell_type": "code",
   "execution_count": 2,
   "metadata": {
    "collapsed": true
   },
   "outputs": [],
   "source": [
    "h5file = tables.open_file('test.h5', mode = \"r\", title = \"Events for training the NN\")"
   ]
  },
  {
   "cell_type": "code",
   "execution_count": 52,
   "metadata": {},
   "outputs": [
    {
     "data": {
      "text/plain": [
       "tuple"
      ]
     },
     "execution_count": 52,
     "metadata": {},
     "output_type": "execute_result"
    }
   ],
   "source": [
    "type(h5file.root._v_attrs.shape)"
   ]
  },
  {
   "cell_type": "code",
   "execution_count": 3,
   "metadata": {
    "collapsed": true
   },
   "outputs": [],
   "source": [
    "a= h5file.root.reco_vals"
   ]
  },
  {
   "cell_type": "code",
   "execution_count": 4,
   "metadata": {},
   "outputs": [
    {
     "data": {
      "text/plain": [
       "-0.73662813583819886"
      ]
     },
     "execution_count": 4,
     "metadata": {},
     "output_type": "execute_result"
    }
   ],
   "source": [
    "a.cols.energy[2]"
   ]
  },
  {
   "cell_type": "code",
   "execution_count": 10,
   "metadata": {
    "collapsed": true
   },
   "outputs": [],
   "source": [
    "h5file.close()"
   ]
  },
  {
   "cell_type": "code",
   "execution_count": 73,
   "metadata": {},
   "outputs": [
    {
     "name": "stdout",
     "output_type": "stream",
     "text": [
      "6\n"
     ]
    }
   ],
   "source": [
    "print len(dtype)"
   ]
  },
  {
   "cell_type": "code",
   "execution_count": 68,
   "metadata": {
    "collapsed": true
   },
   "outputs": [],
   "source": [
    "dtype2 = np.dtype([('azimuth', eval('np.float64')), ('zenith', np.float64)])"
   ]
  },
  {
   "cell_type": "code",
   "execution_count": 11,
   "metadata": {},
   "outputs": [
    {
     "name": "stdout",
     "output_type": "stream",
     "text": [
      "207254\n",
      "207254\n"
     ]
    }
   ],
   "source": [
    "print len(hfile['charge'])\n",
    "print len(pyh5file.root.charge)"
   ]
  },
  {
   "cell_type": "code",
   "execution_count": 11,
   "metadata": {
    "collapsed": true
   },
   "outputs": [],
   "source": [
    "inds = np.arange(0,len(hfile['charge']),len(hfile['charge'])/100)"
   ]
  },
  {
   "cell_type": "code",
   "execution_count": 12,
   "metadata": {},
   "outputs": [
    {
     "name": "stdout",
     "output_type": "stream",
     "text": [
      "211.103744\n"
     ]
    }
   ],
   "source": [
    "import psutil\n",
    "process = psutil.Process(os.getpid())\n",
    "print('{}'.format(process.memory_info().rss/1e6))"
   ]
  },
  {
   "cell_type": "code",
   "execution_count": 13,
   "metadata": {},
   "outputs": [
    {
     "name": "stdout",
     "output_type": "stream",
     "text": [
      "0.211103744\n",
      "0.211103744\n",
      "0.423591936\n",
      "0.423591936\n",
      " --------- \n",
      "0.224677888\n",
      "0.423591936\n",
      "0.429596672\n",
      "0.429596672\n",
      " --------- \n",
      "0.230682624\n",
      "0.429596672\n",
      "0.430354432\n",
      "0.430354432\n",
      " --------- \n",
      "0.231440384\n",
      "0.430354432\n",
      "0.432054272\n",
      "0.432054272\n",
      " --------- \n"
     ]
    }
   ],
   "source": [
    "for i in range(4):\n",
    "    t =[]\n",
    "    print('{}'.format(process.memory_info().rss/1e9))\n",
    "    print('{}'.format(resource.getrusage(resource.RUSAGE_SELF).ru_maxrss/1e9))\n",
    "    t.extend(hfile['charge'][inds[i]:inds[i+1]])\n",
    "    print('{}'.format(process.memory_info().rss/1e9))\n",
    "    print('{}'.format(resource.getrusage(resource.RUSAGE_SELF).ru_maxrss/1e9))\n",
    "    print ' --------- '"
   ]
  },
  {
   "cell_type": "code",
   "execution_count": 14,
   "metadata": {},
   "outputs": [
    {
     "name": "stdout",
     "output_type": "stream",
     "text": [
      "0.233140224\n",
      "0.432054272\n",
      "0.43790336\n",
      "0.43790336\n",
      " --------- \n",
      "0.238989312\n",
      "0.43790336\n",
      "0.439222272\n",
      "0.439222272\n",
      " --------- \n",
      "0.240308224\n",
      "0.439222272\n",
      "0.441823232\n",
      "0.441823232\n",
      " --------- \n",
      "0.242909184\n",
      "0.441823232\n",
      "0.441884672\n",
      "0.441884672\n",
      " --------- \n"
     ]
    }
   ],
   "source": [
    "for i in range(4):\n",
    "    t =[]\n",
    "    print('{}'.format(process.memory_info().rss/1e9))\n",
    "    print('{}'.format(resource.getrusage(resource.RUSAGE_SELF).ru_maxrss/1e9))\n",
    "    t.extend(pyh5file.root.charge[inds[i]:inds[i+1]])\n",
    "    print('{}'.format(process.memory_info().rss/1e9))\n",
    "    print('{}'.format(resource.getrusage(resource.RUSAGE_SELF).ru_maxrss/1e9))\n",
    "    print ' --------- '"
   ]
  },
  {
   "cell_type": "code",
   "execution_count": 57,
   "metadata": {
    "collapsed": true
   },
   "outputs": [],
   "source": [
    "test = [1,]"
   ]
  },
  {
   "cell_type": "code",
   "execution_count": 59,
   "metadata": {},
   "outputs": [
    {
     "ename": "IndexError",
     "evalue": "list index out of range",
     "output_type": "error",
     "traceback": [
      "\u001b[0;31m---------------------------------------------------------------------------\u001b[0m",
      "\u001b[0;31mIndexError\u001b[0m                                Traceback (most recent call last)",
      "\u001b[0;32m<ipython-input-59-f8c5746b88d9>\u001b[0m in \u001b[0;36m<module>\u001b[0;34m()\u001b[0m\n\u001b[0;32m----> 1\u001b[0;31m \u001b[0;32mprint\u001b[0m \u001b[0mtest\u001b[0m\u001b[0;34m[\u001b[0m\u001b[0;36m1\u001b[0m\u001b[0;34m]\u001b[0m\u001b[0;34m\u001b[0m\u001b[0m\n\u001b[0m",
      "\u001b[0;31mIndexError\u001b[0m: list index out of range"
     ]
    }
   ],
   "source": [
    "print test[]"
   ]
  },
  {
   "cell_type": "code",
   "execution_count": 70,
   "metadata": {
    "collapsed": true
   },
   "outputs": [],
   "source": [
    "a= []\n",
    "a.append(1)"
   ]
  },
  {
   "cell_type": "code",
   "execution_count": 2,
   "metadata": {
    "collapsed": true
   },
   "outputs": [],
   "source": [
    "test =' x , y ,abs' "
   ]
  },
  {
   "cell_type": "code",
   "execution_count": 6,
   "metadata": {},
   "outputs": [
    {
     "name": "stdout",
     "output_type": "stream",
     "text": [
      "[' x ', ' y ', 'abs']\n",
      "['x', 'y', 'abs']\n"
     ]
    }
   ],
   "source": [
    "ary = test.split(',')\n",
    "print ary\n",
    "print [i.strip() for i in ary]"
   ]
  },
  {
   "cell_type": "code",
   "execution_count": 1,
   "metadata": {
    "collapsed": true
   },
   "outputs": [],
   "source": [
    "from keras.layers import *"
   ]
  },
  {
   "cell_type": "code",
   "execution_count": null,
   "metadata": {
    "collapsed": true
   },
   "outputs": [],
   "source": []
  },
  {
   "cell_type": "code",
   "execution_count": 7,
   "metadata": {
    "collapsed": true
   },
   "outputs": [],
   "source": [
    "from configparser import ConfigParser"
   ]
  },
  {
   "cell_type": "code",
   "execution_count": 8,
   "metadata": {
    "collapsed": true
   },
   "outputs": [],
   "source": [
    "cfg_pars = ConfigParser()"
   ]
  },
  {
   "cell_type": "code",
   "execution_count": 9,
   "metadata": {},
   "outputs": [
    {
     "name": "stderr",
     "output_type": "stream",
     "text": [
      "/usr/local/lib/python2.7/site-packages/ipykernel_launcher.py:1: DeprecationWarning: You passed a bytestring as `filenames`. This will not work on Python 3. Use `cp.read_file()` or switch to using Unicode strings across the board.\n",
      "  \"\"\"Entry point for launching an IPython kernel.\n"
     ]
    },
    {
     "data": {
      "text/plain": [
       "['./../configs/default_new.cfg']"
      ]
     },
     "execution_count": 9,
     "metadata": {},
     "output_type": "execute_result"
    }
   ],
   "source": [
    "cfg_pars.read('./../configs/default_new.cfg')"
   ]
  },
  {
   "cell_type": "code",
   "execution_count": 10,
   "metadata": {},
   "outputs": [
    {
     "data": {
      "text/plain": [
       "[u'DEFAULT',\n",
       " u'Basics',\n",
       " u'Input_Charges',\n",
       " u'Input_Times',\n",
       " u'Input_Waveforms1',\n",
       " u'Cuts',\n",
       " u'depositedE',\n",
       " u'hitDOMs',\n",
       " u'firstParticle',\n",
       " u'energyFirstParticle',\n",
       " u'zenith',\n",
       " u'RunID',\n",
       " u'EventID',\n",
       " u'TauDecayLength',\n",
       " u'ClassificationLabel',\n",
       " u'StartingLabel',\n",
       " u'UpDownLabel',\n",
       " u'CoincidenceLabel',\n",
       " u'MinBias_Filter',\n",
       " u'Cascade_Filter',\n",
       " u'Muon_Filter']"
      ]
     },
     "execution_count": 10,
     "metadata": {},
     "output_type": "execute_result"
    }
   ],
   "source": [
    "cfg_pars.keys()"
   ]
  },
  {
   "cell_type": "code",
   "execution_count": 11,
   "metadata": {
    "collapsed": true
   },
   "outputs": [],
   "source": [
    "x = cfg_pars['Input_Charges']\n",
    "y =cfg_pars['Input_Times']\n",
    "z = cfg_pars['Input_Waveforms1']"
   ]
  },
  {
   "cell_type": "code",
   "execution_count": 31,
   "metadata": {
    "collapsed": true
   },
   "outputs": [],
   "source": [
    "def replace_with_var(x):\n",
    "    if ('(' in x) and (')' in x): \n",
    "        y = x[x.index('('):x.index(')')]\n",
    "        x = x.replace(y, y.replace('c', 'charges').replace('t', 'times').replace('w', 'width'))\n",
    "    else:\n",
    "        x=x.replace('c', 'charges').replace('t', 'times').replace('w', 'width')\n",
    "    return x"
   ]
  },
  {
   "cell_type": "code",
   "execution_count": 32,
   "metadata": {},
   "outputs": [
    {
     "name": "stdout",
     "output_type": "stream",
     "text": [
      "np.sum(c)\n",
      "c[0]\n",
      "len(c)\n",
      "np.amin(t)\n",
      "np.amax(t)-np.amin(t)\n",
      "average(c, 1./w)\n",
      "skew(t)\n",
      "moment(times, moment=2)\n"
     ]
    }
   ],
   "source": [
    "inputs = []\n",
    "for key in x.keys():\n",
    "    inputs.append((key, replace_with_var(x[key])))\n",
    "for key in y.keys():\n",
    "    inputs.append((key, replace_with_var(y[key])))\n",
    "for q in z['quantiles'].split(','):\n",
    "    inputs.append(('{}_{}_pct_charge_quantile'.format(z['type'], q.strip().replace('.','_')),\n",
    "                   'fu.wf_quantiles(waveform, {})[\\'{}\\']'.format(q, z['type'])))"
   ]
  },
  {
   "cell_type": "code",
   "execution_count": 33,
   "metadata": {},
   "outputs": [
    {
     "name": "stdout",
     "output_type": "stream",
     "text": [
      "[(u'charge', u'np.sum(charges)'), (u'first_charge', u'charges[0]'), (u'num_pulses', u'len(charges)'), (u'time_first', u'np.amin(times)'), (u'time_spread', u'np.amax(times)-np.amin(times)'), (u'av_time_charges', u'average(charges, 1./width)'), (u'time_kurtosis', u'skew(times)'), (u'time_moment_2', u'moment(timesimes, momentimes=2)'), ('ATWD_0_05_pct_charge_quantile', \"fu.wf_quantiles(waveform, 0.05)['ATWD']\"), ('ATWD_0_1_pct_charge_quantile', \"fu.wf_quantiles(waveform,  0.1)['ATWD']\"), ('ATWD_0_15_pct_charge_quantile', \"fu.wf_quantiles(waveform,  0.15)['ATWD']\"), ('ATWD_0_2_pct_charge_quantile', \"fu.wf_quantiles(waveform,  0.2)['ATWD']\"), ('ATWD_0_25_pct_charge_quantile', \"fu.wf_quantiles(waveform,  0.25)['ATWD']\"), ('ATWD_0_3_pct_charge_quantile', \"fu.wf_quantiles(waveform,  0.3)['ATWD']\"), ('ATWD_0_35_pct_charge_quantile', \"fu.wf_quantiles(waveform,  0.35)['ATWD']\"), ('ATWD_0_4_pct_charge_quantile', \"fu.wf_quantiles(waveform,  0.4)['ATWD']\"), ('ATWD_0_45_pct_charge_quantile', \"fu.wf_quantiles(waveform,  0.45)['ATWD']\"), ('ATWD_0_5_pct_charge_quantile', \"fu.wf_quantiles(waveform,  0.5)['ATWD']\"), ('ATWD_0_55_pct_charge_quantile', \"fu.wf_quantiles(waveform,  0.55)['ATWD']\"), ('ATWD_0_6_pct_charge_quantile', \"fu.wf_quantiles(waveform,  0.6)['ATWD']\"), ('ATWD_0_65_pct_charge_quantile', \"fu.wf_quantiles(waveform,  0.65)['ATWD']\"), ('ATWD_0_7_pct_charge_quantile', \"fu.wf_quantiles(waveform,  0.7)['ATWD']\"), ('ATWD_0_75_pct_charge_quantile', \"fu.wf_quantiles(waveform,  0.75)['ATWD']\"), ('ATWD_0_8_pct_charge_quantile', \"fu.wf_quantiles(waveform,  0.8)['ATWD']\"), ('ATWD_0_85_pct_charge_quantile', \"fu.wf_quantiles(waveform,  0.85)['ATWD']\"), ('ATWD_0_9_pct_charge_quantile', \"fu.wf_quantiles(waveform,  0.9)['ATWD']\"), ('ATWD_0_95_pct_charge_quantile', \"fu.wf_quantiles(waveform,  0.95)['ATWD']\")]\n"
     ]
    }
   ],
   "source": [
    "print inputs"
   ]
  },
  {
   "cell_type": "code",
   "execution_count": null,
   "metadata": {
    "collapsed": true
   },
   "outputs": [],
   "source": []
  }
 ],
 "metadata": {
  "kernelspec": {
   "display_name": "Python 2",
   "language": "python",
   "name": "python2"
  },
  "language_info": {
   "codemirror_mode": {
    "name": "ipython",
    "version": 2
   },
   "file_extension": ".py",
   "mimetype": "text/x-python",
   "name": "python",
   "nbconvert_exporter": "python",
   "pygments_lexer": "ipython2",
   "version": "2.7.13"
  }
 },
 "nbformat": 4,
 "nbformat_minor": 1
}
