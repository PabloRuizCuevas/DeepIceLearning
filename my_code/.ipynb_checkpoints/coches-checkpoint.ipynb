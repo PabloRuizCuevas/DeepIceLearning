{
 "cells": [
  {
   "cell_type": "code",
   "execution_count": 1,
   "metadata": {
    "Collapsed": "false"
   },
   "outputs": [],
   "source": [
    "import numpy as np\n",
    "import matplotlib.pyplot as plt\n",
    "import pandas as pd"
   ]
  },
  {
   "cell_type": "markdown",
   "metadata": {},
   "source": [
    "## MAZDA MX-5 NB"
   ]
  },
  {
   "cell_type": "raw",
   "metadata": {
    "Collapsed": "false"
   },
   "source": [
    "https://www.autoscout24.de/angebote/mazda-mx-5-benzin-gold-d4df7daa-ed44-d008-e053-0100007fac83?cldtidx=8&cldtsrc=zeroResultRec"
   ]
  },
  {
   "cell_type": "code",
   "execution_count": 72,
   "metadata": {
    "Collapsed": "false"
   },
   "outputs": [],
   "source": [
    "##Collect data\n",
    "precio= [1847 ,1500,1690,1699,1990,1995,2100,2400,2500,2500,2500,2500,2600,2650 ,2650,2700,2700,2700 ,2799,2800,2900,2900,3650,6250,500 ,900 ,1080,1250,1390,1400,3500,2600,2200,1990,1700,1750,2450,2500,1600]\n",
    "km=     [187.5,244 ,180 ,270 ,195 ,140 ,160 ,245 ,162 ,203 ,190 ,125 ,155 ,189.8,131 ,189 ,194 ,180.7,170 ,209 ,217 ,170 ,161 ,70.7,250 ,165 ,204 ,199 ,171 ,196 ,167 ,140 ,165 ,128,141,164,197,216,284]\n",
    "year=   [1999 ,1998,2001,2003,1998,1999,2000,1998,2001,2003,2003,2000,2000,2004 ,2002,1999,2002,1999 ,2002,1999,2001,2005,2000,1999,2000,2001,2000,2000,2000,2000,1998,1999,2003,2004,1998,1997,1999,2003,1999]\n",
    "cv=     [140  ,110 ,110 ,110 ,110 ,110 ,110 ,110 ,110 ,110 ,110 ,110 ,110 ,110  ,110 ,140 ,110 ,110  ,110 ,110 ,110 ,110 ,110 ,110 ,110 ,110 ,110 ,140 ,110 ,110 ,140 ,110,110 ,110,110,110,110,145,110]\n",
    "L=      [1.9  ,1.6 ,1.6 ,1.6 ,1.6 ,1.6 ,1.6 ,1.6 ,1.6 ,1.6 ,1.6 ,1.6 ,1.6 ,1.6  ,1.6 ,1.9 ,1.6 ,1.6  ,1.6 ,1.6 ,1.6 ,1.6 ,1.6 ,1.6 ,1.6 ,1.6 ,1.6 ,1.9 ,1.6 ,1.6 ,1.9 ,1.6,1.6,1.6,1.6,1.6,1.6,1.9,1.6]\n",
    "Replace=[1,0,0.5,0,0,1,0,0,0,0,0,1,0,0,0,0,0,0,0,1,0,0,0,0,1,1,1,1,1,1,0,0,0,0.2,0.5,0,0,0.25,0.5]\n",
    "tuv=    [0,0,0,1,1,0,0,1,1,1,1,1,1,1,1,1,1,1,1,1,1,1,1,1,0,0,0,0,1,1,1,1,1,1,1,1,1,1,1]\n",
    "klima=  [0,0,0,0,0,0,0,0,0,0,0,0,0,0,1,0,0,0,0,0,0,0,0,0,0,0,0,0,0,0,0,0,0,1,0,0,0,0,0]\n",
    "cv=np.array(cv)-np.min(cv)\n",
    "L=np.array(L)-np.min(L)\n",
    "edad=np.max(year)-np.array(year)"
   ]
  },
  {
   "cell_type": "code",
   "execution_count": 73,
   "metadata": {},
   "outputs": [
    {
     "data": {
      "text/plain": [
       "2005"
      ]
     },
     "execution_count": 73,
     "metadata": {},
     "output_type": "execute_result"
    }
   ],
   "source": [
    "np.max(year)"
   ]
  },
  {
   "cell_type": "code",
   "execution_count": 74,
   "metadata": {},
   "outputs": [],
   "source": [
    "data={\"precio\":precio,\"km\":km,\"year\":year,\"cv\":cv,\"L\":L,\"Replace\":Replace,\"tuv\":tuv,\"klima\":klima,\"edad\":edad}\n",
    "df_Al = pd.DataFrame(data)"
   ]
  },
  {
   "cell_type": "code",
   "execution_count": 75,
   "metadata": {
    "Collapsed": "false"
   },
   "outputs": [
    {
     "data": {
      "image/png": "[encoded data removed]",
      "text/plain": [
       "<Figure size 432x288 with 1 Axes>"
      ]
     },
     "metadata": {
      "needs_background": "light"
     },
     "output_type": "display_data"
    }
   ],
   "source": [
    "plt.scatter(df_Al[\"year\"],df_Al[\"precio\"])\n",
    "plt.show()"
   ]
  },
  {
   "cell_type": "code",
   "execution_count": 83,
   "metadata": {
    "Collapsed": "false"
   },
   "outputs": [
    {
     "name": "stdout",
     "output_type": "stream",
     "text": [
      "[   7.69537468  -11.61375724   12.94380265 -829.1089115   639.23090454\n",
      " -880.93923379 4133.21003368]\n",
      "precio medio coche sin averias: 4133.0\n",
      "precio medio coche con averias: 3304.0\n",
      "precio medio coche sin averias y con tuv: 4772.0\n"
     ]
    }
   ],
   "source": [
    "y = np.array(df_Al[\"precio\"])\n",
    "X = np.array([df_Al[\"edad\"],df_Al[\"km\"],df_Al[\"cv\"],df_Al[\"Replace\"],df_Al[\"tuv\"],df_Al[\"klima\"]])\n",
    "X = X.T # transpose so input vectors are along the rows\n",
    "X = np.c_[X, np.ones(X.shape[0])] # add bias term\n",
    "beta_hat_Al = np.linalg.lstsq(X,y,rcond=None)[0]\n",
    "np.set_printoptions(suppress=True)\n",
    "X_Al=X\n",
    "print(beta_hat_Al)\n",
    "print(\"precio medio coche sin averias:\",np.floor(beta_hat_Al[-1]))\n",
    "print(\"precio medio coche con averias:\",np.floor(beta_hat_Al[-1]+beta_hat_Al[3]))\n",
    "print(\"precio medio coche sin averias y con tuv:\",np.floor(beta_hat_Al[-1]+beta_hat_Al[4]))"
   ]
  },
  {
   "cell_type": "code",
   "execution_count": 118,
   "metadata": {},
   "outputs": [
    {
     "data": {
      "text/plain": [
       "390"
      ]
     },
     "execution_count": 118,
     "metadata": {},
     "output_type": "execute_result"
    }
   ],
   "source": []
  },
  {
   "cell_type": "code",
   "execution_count": 84,
   "metadata": {},
   "outputs": [
    {
     "data": {
      "text/plain": [
       "-2879.225641025641"
      ]
     },
     "execution_count": 84,
     "metadata": {},
     "output_type": "execute_result"
    }
   ],
   "source": [
    "-14*np.mean(df_Al[\"km\"])-np.mean(df_Al[\"edad\"])*70"
   ]
  },
  {
   "cell_type": "code",
   "execution_count": 85,
   "metadata": {
    "Collapsed": "false"
   },
   "outputs": [],
   "source": [
    "precio_justo=np.sum(X_Al*beta_hat_Al,axis=1)\n",
    "sobreprecio=precio-precio_justo"
   ]
  },
  {
   "cell_type": "code",
   "execution_count": 86,
   "metadata": {},
   "outputs": [
    {
     "name": "stdout",
     "output_type": "stream",
     "text": [
      "precio justo: 4554.0\n"
     ]
    }
   ],
   "source": [
    "def precio_justo_Al(X):\n",
    "    #x=[edad,km,cv,Replace,tuv,klima,1]\n",
    "    if (np.size(X)==6):\n",
    "        X.append(1)\n",
    "    return np.floor(sum(X*beta_hat_Al))\n",
    "\n",
    "print(\"precio justo:\",precio_justo_Al([2005-2001,144,110,0,1,0]))  ##pon los parametros que quieras"
   ]
  },
  {
   "cell_type": "code",
   "execution_count": null,
   "metadata": {},
   "outputs": [],
   "source": []
  },
  {
   "cell_type": "code",
   "execution_count": 116,
   "metadata": {},
   "outputs": [
    {
     "name": "stdout",
     "output_type": "stream",
     "text": [
      "precio: 1750\n",
      "sobre precio: -1179.3477482378648\n"
     ]
    },
    {
     "data": {
      "text/html": [
       "<div>\n",
       "<style scoped>\n",
       "    .dataframe tbody tr th:only-of-type {\n",
       "        vertical-align: middle;\n",
       "    }\n",
       "\n",
       "    .dataframe tbody tr th {\n",
       "        vertical-align: top;\n",
       "    }\n",
       "\n",
       "    .dataframe thead th {\n",
       "        text-align: right;\n",
       "    }\n",
       "</style>\n",
       "<table border=\"1\" class=\"dataframe\">\n",
       "  <thead>\n",
       "    <tr style=\"text-align: right;\">\n",
       "      <th></th>\n",
       "      <th>precio</th>\n",
       "      <th>km</th>\n",
       "      <th>year</th>\n",
       "      <th>cv</th>\n",
       "      <th>L</th>\n",
       "      <th>Replace</th>\n",
       "      <th>tuv</th>\n",
       "      <th>klima</th>\n",
       "      <th>edad</th>\n",
       "    </tr>\n",
       "  </thead>\n",
       "  <tbody>\n",
       "    <tr>\n",
       "      <th>35</th>\n",
       "      <td>1750</td>\n",
       "      <td>164.0</td>\n",
       "      <td>1997</td>\n",
       "      <td>0</td>\n",
       "      <td>0.0</td>\n",
       "      <td>0.0</td>\n",
       "      <td>1</td>\n",
       "      <td>0</td>\n",
       "      <td>8</td>\n",
       "    </tr>\n",
       "  </tbody>\n",
       "</table>\n",
       "</div>"
      ],
      "text/plain": [
       "    precio     km  year  cv    L  Replace  tuv  klima  edad\n",
       "35    1750  164.0  1997   0  0.0      0.0    1      0     8"
      ]
     },
     "execution_count": 116,
     "metadata": {},
     "output_type": "execute_result"
    }
   ],
   "source": [
    "##Car with the best price for german preferences\n",
    "i=0\n",
    "print(\"precio:\", df_Al[\"precio\"][np.argsort(sobreprecio)[i]])\n",
    "print(\"sobre precio:\", sobreprecio[np.argsort(sobreprecio)[i]])\n",
    "df_Al.iloc[[np.argsort(sobreprecio)[i]]]"
   ]
  },
  {
   "cell_type": "code",
   "execution_count": 93,
   "metadata": {},
   "outputs": [
    {
     "data": {
      "image/png": "[encoded data removed]",
      "text/plain": [
       "<Figure size 432x288 with 1 Axes>"
      ]
     },
     "metadata": {
      "needs_background": "light"
     },
     "output_type": "display_data"
    }
   ],
   "source": [
    "plt.scatter(sobreprecio,df_Al[\"precio\"])\n",
    "plt.scatter(sobreprecio[df_Al[\"Replace\"]==1],df_Al[\"precio\"][df_Al[\"Replace\"]==1],label=\"Reparar\")\n",
    "plt.scatter(sobreprecio[df_Al[\"Replace\"]==0],df_Al[\"precio\"][df_Al[\"Replace\"]==0],label=\"Perfecto\")\n",
    "plt.legend(loc ='best')\n",
    "plt.xlabel(\"Sobreprecio [Euros]\")\n",
    "plt.ylabel('Price [Euros]')\n",
    "plt.show()"
   ]
  },
  {
   "cell_type": "code",
   "execution_count": 97,
   "metadata": {
    "Collapsed": "false"
   },
   "outputs": [
    {
     "data": {
      "image/png": "[encoded data removed]",
      "text/plain": [
       "<Figure size 432x288 with 1 Axes>"
      ]
     },
     "metadata": {
      "needs_background": "light"
     },
     "output_type": "display_data"
    }
   ],
   "source": [
    "plt.hist(sobreprecio,15)\n",
    "plt.show()"
   ]
  },
  {
   "cell_type": "markdown",
   "metadata": {
    "Collapsed": "false"
   },
   "source": [
    "# Precios España"
   ]
  },
  {
   "cell_type": "code",
   "execution_count": 98,
   "metadata": {},
   "outputs": [],
   "source": [
    "precio= [4900,5000,4800,3800,6400,7200,4990,6000,7900,4300,5500,4400,3500,4000,6500,3900,4100,3000,2500,2750,3000]\n",
    "km=     [95  ,211 ,165 ,207 ,132 ,190 ,105 ,110 ,146 ,192 ,178 ,198 ,116 ,185 ,96  ,160 ,214,194,250,197,270]\n",
    "year=   [2003,2001,2003,2002,1999,2002,2001,2002,2004,1999,1998,2001,2001,2002,2000,2002,2003,2000,2002,1999,2001]\n",
    "cv=     [110 ,115 ,110 ,110 ,146 ,110 ,110 ,146 ,110 ,110 ,110 ,110 ,110 ,146 ,110 ,110 ,110,110,110,110,110]\n",
    "L=      [1.6 ,1.6 ,1.6 ,1.6 ,1.6 ,1.8 ,1.6 ,1.6 ,1.8 ,1.6 ,1.6 ,1.6 ,1.6 ,1.8 ,1.6 ,1.6 ,1.6,1.6,1.6,1.6,1.6]\n",
    "Replace=[0,0,0,0,0,0,0,0,0,0,0,0,1,0,0,1,0,1,1,1,0]\n",
    "tuv=    [0,0,0,0,0,0,0,0,0,0,0,0,0,0,0,0,0,0,0,0,0]  #[1,1,1,1,1,1,1,1,1,1,1,1,1,1,1,1,1,0,0,0,1]\n",
    "klima=  [0,0,1,0,0,0,0,0,0,0,0,0,0,0,0,0,0,0,0,0,0]\n",
    "cv=np.array(cv)-np.min(cv)\n",
    "L=np.array(L)-np.min(L)\n",
    "edad=np.max(year)-np.array(year)\n",
    "data={\"precio\":precio,\"km\":km,\"year\":year,\"cv\":cv,\"L\":L,\"Replace\":Replace,\"tuv\":tuv,\"klima\":klima,\"edad\":edad}\n",
    "df_Es = pd.DataFrame(data)"
   ]
  },
  {
   "cell_type": "code",
   "execution_count": 99,
   "metadata": {},
   "outputs": [
    {
     "data": {
      "image/png": "[encoded data removed]",
      "text/plain": [
       "<Figure size 432x288 with 1 Axes>"
      ]
     },
     "metadata": {
      "needs_background": "light"
     },
     "output_type": "display_data"
    }
   ],
   "source": [
    "plt.scatter(df_Es[\"year\"],df_Es[\"precio\"],label=\"Español\")\n",
    "plt.scatter(df_Al[\"year\"],df_Al[\"precio\"],label=\"Alemán\")\n",
    "plt.legend(loc ='best')\n",
    "plt.xlabel(\"year\")\n",
    "plt.ylabel('price [Euros]')\n",
    "plt.show()"
   ]
  },
  {
   "cell_type": "code",
   "execution_count": 100,
   "metadata": {},
   "outputs": [
    {
     "data": {
      "image/png": "[encoded data removed]",
      "text/plain": [
       "<Figure size 432x288 with 1 Axes>"
      ]
     },
     "metadata": {
      "needs_background": "light"
     },
     "output_type": "display_data"
    }
   ],
   "source": [
    "plt.scatter(df_Es[\"km\"],df_Es[\"precio\"],label=\"Español\")\n",
    "plt.scatter(df_Al[\"km\"],df_Al[\"precio\"],label=\"Alemán\")\n",
    "plt.legend(loc ='best')\n",
    "plt.xlabel(\"Kilometers [1000 Km]\")\n",
    "plt.ylabel('Price [Euros]')\n",
    "plt.show()"
   ]
  },
  {
   "cell_type": "code",
   "execution_count": 101,
   "metadata": {},
   "outputs": [
    {
     "data": {
      "image/png": "[encoded data removed]",
      "text/plain": [
       "<Figure size 432x288 with 1 Axes>"
      ]
     },
     "metadata": {
      "needs_background": "light"
     },
     "output_type": "display_data"
    }
   ],
   "source": [
    "plt.scatter(df_Es[\"cv\"]+110,df_Es[\"precio\"])\n",
    "plt.scatter(df_Al[\"cv\"]+110,df_Al[\"precio\"])\n",
    "plt.show()"
   ]
  },
  {
   "cell_type": "code",
   "execution_count": 102,
   "metadata": {},
   "outputs": [
    {
     "name": "stdout",
     "output_type": "stream",
     "text": [
      "[  -72.14775125   -13.83666879    -2.22508461 -1852.45383885\n",
      "     0.          -595.77359729  7750.97169843]\n",
      "precio medio coche sin averias: 7750.0\n",
      "precio medio coche con averias: 5898.0\n",
      "precio medio coche sin averias y con tuv: 7750.0\n"
     ]
    }
   ],
   "source": [
    "y = np.array(df_Es[\"precio\"])\n",
    "X = np.array([df_Es[\"edad\"],df_Es[\"km\"],df_Es[\"cv\"],df_Es[\"Replace\"],df_Es[\"tuv\"],df_Es[\"klima\"]])\n",
    "X = X.T # transpose so input vectors are along the rows\n",
    "X = np.c_[X, np.ones(X.shape[0])] # add bias term\n",
    "beta_hat_Es = np.linalg.lstsq(X,y,rcond=None)[0]\n",
    "np.set_printoptions(suppress=True)\n",
    "X_Es=X\n",
    "print(beta_hat_Es)\n",
    "print(\"precio medio coche sin averias:\",np.floor(beta_hat_Es[-1]))\n",
    "print(\"precio medio coche con averias:\",np.floor(beta_hat_Es[-1]+beta_hat_Es[3]))\n",
    "print(\"precio medio coche sin averias y con tuv:\",np.floor(beta_hat_Es[-1]+beta_hat_Es[4]))"
   ]
  },
  {
   "cell_type": "code",
   "execution_count": 103,
   "metadata": {},
   "outputs": [
    {
     "data": {
      "text/plain": [
       "-2065.666666666667"
      ]
     },
     "execution_count": 103,
     "metadata": {},
     "output_type": "execute_result"
    }
   ],
   "source": [
    "-11*np.mean(df_Es[\"km\"])-62*np.mean(df_Es[\"edad\"])"
   ]
  },
  {
   "cell_type": "markdown",
   "metadata": {},
   "source": [
    "# Precios Alemania con preferencias España"
   ]
  },
  {
   "cell_type": "markdown",
   "metadata": {},
   "source": [
    "Ahora analizaremos cual es el mejor coche aleman X_Al segun las preferencias españolas beta_hat_Es"
   ]
  },
  {
   "cell_type": "code",
   "execution_count": 104,
   "metadata": {},
   "outputs": [],
   "source": [
    "precio_español_coche_aleman=np.sum(X_Al*beta_hat_Es,axis=1)\n",
    "sobreprecio_Al_Es=df_Al[\"precio\"]-precio_español_coche_aleman"
   ]
  },
  {
   "cell_type": "code",
   "execution_count": null,
   "metadata": {},
   "outputs": [],
   "source": []
  },
  {
   "cell_type": "code",
   "execution_count": 105,
   "metadata": {},
   "outputs": [
    {
     "data": {
      "text/plain": [
       "5225.141080919502"
      ]
     },
     "execution_count": 105,
     "metadata": {},
     "output_type": "execute_result"
    }
   ],
   "source": [
    "np.sum([2005-2001,144,110,0,1,0,1]*beta_hat_Es)"
   ]
  },
  {
   "cell_type": "code",
   "execution_count": 112,
   "metadata": {},
   "outputs": [
    {
     "name": "stdout",
     "output_type": "stream",
     "text": [
      "precio: 2100\n",
      "sobre precio: -3076.3659362096105\n"
     ]
    },
    {
     "data": {
      "text/html": [
       "<div>\n",
       "<style scoped>\n",
       "    .dataframe tbody tr th:only-of-type {\n",
       "        vertical-align: middle;\n",
       "    }\n",
       "\n",
       "    .dataframe tbody tr th {\n",
       "        vertical-align: top;\n",
       "    }\n",
       "\n",
       "    .dataframe thead th {\n",
       "        text-align: right;\n",
       "    }\n",
       "</style>\n",
       "<table border=\"1\" class=\"dataframe\">\n",
       "  <thead>\n",
       "    <tr style=\"text-align: right;\">\n",
       "      <th></th>\n",
       "      <th>precio</th>\n",
       "      <th>km</th>\n",
       "      <th>year</th>\n",
       "      <th>cv</th>\n",
       "      <th>L</th>\n",
       "      <th>Replace</th>\n",
       "      <th>tuv</th>\n",
       "      <th>klima</th>\n",
       "      <th>edad</th>\n",
       "    </tr>\n",
       "  </thead>\n",
       "  <tbody>\n",
       "    <tr>\n",
       "      <th>6</th>\n",
       "      <td>2100</td>\n",
       "      <td>160.0</td>\n",
       "      <td>2000</td>\n",
       "      <td>0</td>\n",
       "      <td>0.0</td>\n",
       "      <td>0.0</td>\n",
       "      <td>0</td>\n",
       "      <td>0</td>\n",
       "      <td>5</td>\n",
       "    </tr>\n",
       "  </tbody>\n",
       "</table>\n",
       "</div>"
      ],
      "text/plain": [
       "   precio     km  year  cv    L  Replace  tuv  klima  edad\n",
       "6    2100  160.0  2000   0  0.0      0.0    0      0     5"
      ]
     },
     "execution_count": 112,
     "metadata": {},
     "output_type": "execute_result"
    }
   ],
   "source": [
    "i=2\n",
    "print(\"precio:\", df_Al[\"precio\"][np.argsort(sobreprecio_Al_Es)[i]])\n",
    "print(\"sobre precio:\", sobreprecio_Al_Es[np.argsort(sobreprecio_Al_Es)[i]])\n",
    "df_Al.iloc[[np.argsort(sobreprecio_Al_Es)[i]]]"
   ]
  },
  {
   "cell_type": "code",
   "execution_count": 542,
   "metadata": {},
   "outputs": [
    {
     "ename": "SyntaxError",
     "evalue": "invalid syntax (<ipython-input-542-68c7ac96251b>, line 3)",
     "output_type": "error",
     "traceback": [
      "\u001b[0;36m  File \u001b[0;32m\"<ipython-input-542-68c7ac96251b>\"\u001b[0;36m, line \u001b[0;32m3\u001b[0m\n\u001b[0;31m    -100 tuv\u001b[0m\n\u001b[0m         ^\u001b[0m\n\u001b[0;31mSyntaxError\u001b[0m\u001b[0;31m:\u001b[0m invalid syntax\n"
     ]
    }
   ],
   "source": [
    "2557\n",
    "-500 #(o 1000 matriculación)\n",
    "-100 tuv\n",
    "-100 revision\n",
    "-100 seguro temporal\n",
    "-300 otros impuestos españa\n",
    "-300 viaje a españa\n",
    "-100 viaje a comprar el coche\n",
    "\n",
    "Restante 1000 si el coche se vende a 4500 euros lloro de la risa XD\n",
    "500 o menos posiblemente "
   ]
  },
  {
   "cell_type": "code",
   "execution_count": 110,
   "metadata": {},
   "outputs": [
    {
     "data": {
      "text/plain": [
       "array([2804.50341615, 3869.79025558, 4045.5533923 , 3870.77562338,\n",
       "       4547.78702615, 3528.49772185, 5176.36593621, 3855.95358679,\n",
       "       5220.84034989, 4797.83243212, 4977.70912635, 3808.19550492,\n",
       "       5245.54928015, 5052.62421137, 5126.15123626, 4636.20225182,\n",
       "       4850.21469995, 4817.79914106, 5182.29475085, 2573.76757554,\n",
       "       4459.82356659, 5398.73800461, 5162.52926742, 6339.83270765,\n",
       "       2078.61190651, 3326.87650468, 2715.09867073, 2717.52947635,\n",
       "       3171.7087407 , 2825.79202102, 4868.46121388, 5380.9515607 ,\n",
       "       5323.62584604, 4941.46597736, 4368.74022124, 4904.5760073 ,\n",
       "       4592.26143983, 4076.96431681, 2462.24433592])"
      ]
     },
     "execution_count": 110,
     "metadata": {},
     "output_type": "execute_result"
    }
   ],
   "source": [
    "precio_español_coche_aleman"
   ]
  },
  {
   "cell_type": "code",
   "execution_count": 111,
   "metadata": {},
   "outputs": [
    {
     "data": {
      "image/png": "[encoded data removed]",
      "text/plain": [
       "<Figure size 432x288 with 1 Axes>"
      ]
     },
     "metadata": {
      "needs_background": "light"
     },
     "output_type": "display_data"
    }
   ],
   "source": [
    "plt.scatter(sobreprecio_Al_Es[df_Al[\"Replace\"]==0],df_Al[\"precio\"][df_Al[\"Replace\"]==0])\n",
    "plt.scatter(sobreprecio_Al_Es[df_Al[\"Replace\"]==1],df_Al[\"precio\"][df_Al[\"Replace\"]==1])\n",
    "plt.show()"
   ]
  },
  {
   "cell_type": "code",
   "execution_count": null,
   "metadata": {},
   "outputs": [],
   "source": [
    "plt.scatter(sobreprecio_Al_Es[df_Al[\"Replace\"]==0],df_Al[\"precio\"][df_Al[\"Replace\"]==0])\n",
    "plt.scatter(sobreprecio_Al_Es[df_Al[\"Replace\"]==1],df_Al[\"precio\"][df_Al[\"Replace\"]==1])\n",
    "plt.show()"
   ]
  },
  {
   "cell_type": "code",
   "execution_count": null,
   "metadata": {},
   "outputs": [],
   "source": [
    "https://www.autoscout24.de/angebote/mazda-mx-5-1-9i-16v-benzin-blau-47f507f8-1c87-4a03-a3da-52708ee154c5?cldtidx=3&cldtsrc=listPage\n",
    "https://www.autoscout24.de/angebote/mazda-mx-5-1-6i-16v-benzin-silber-b88a07d3-a6b5-40fd-9960-6f725e997bbd?cldtidx=1&cldtsrc=listPage\n",
    "https://www.autoscout24.de/angebote/mazda-mx-5-1-6-i-roadster-benzin-blau-0dae17bb-03e6-4aa4-9b3c-5da320921e18?cldtidx=5&cldtsrc=listPage#descriptionTop\n",
    "https://www.autoscout24.de/angebote/mazda-mx-5-1-6i-16v-benzin-blau-732766f7-63cf-4caf-b65b-ac3ac367cca2?cldtidx=8&cldtsrc=listPage"
   ]
  },
  {
   "cell_type": "code",
   "execution_count": null,
   "metadata": {},
   "outputs": [],
   "source": []
  },
  {
   "cell_type": "code",
   "execution_count": 550,
   "metadata": {},
   "outputs": [],
   "source": [
    "#MINI"
   ]
  },
  {
   "cell_type": "code",
   "execution_count": 577,
   "metadata": {},
   "outputs": [],
   "source": [
    "precio= [1900,2650,4600,5490,5880,6990,8680,8900,8990,8990,8990,9850,10980,11490,13490,12850]\n",
    "km=     [230 ,82  ,200 ,117 ,167 ,128 ,92  ,141 ,102 ,98  ,98,64    ,107,54,68,83]\n",
    "year=   [2006,2010,2009,2009,2012,2010,2012,2011,2012,2011,2011,2014,2016,2014,2016,2014]\n",
    "cv=     [90  ,75  ,109 ,120 ,90  ,120 ,98  ,184 ,122 ,98  ,184,102  ,150,98,116,184]\n",
    "gaso   =[1,1,0,1,0,1,1,1,1,1,1,1,0,1,0,1]\n",
    "Replace=[0,0,0,0,0,0,0,0,0,0,0,0,0,0,0,0]\n",
    "tuv=    [1,1,1,1,1,1,1,1,1,1,1,1,1,1,1,1]\n",
    "klima=  [1,1,1,1,1,1,1,1,1,1,1,1,1,1,1,1]\n",
    "cabrio= [0,0,0,0,0,0,0,0,0,0,0,0,0,0,0,0]\n",
    "\n",
    "cv=np.array(cv)-np.min(cv)\n",
    "L=np.array(L)-np.min(L)\n",
    "edad=np.max(year)-np.array(year)\n",
    "data={\"precio\":precio,\"km\":km,\"year\":year,\"cv\":cv,\"Replace\":Replace,\"tuv\":tuv,\"klima\":klima,\"edad\":edad}\n",
    "df_Al = pd.DataFrame(data)"
   ]
  },
  {
   "cell_type": "code",
   "execution_count": 578,
   "metadata": {},
   "outputs": [
    {
     "data": {
      "image/png": "[encoded data removed]",
      "text/plain": [
       "<Figure size 432x288 with 1 Axes>"
      ]
     },
     "metadata": {
      "needs_background": "light"
     },
     "output_type": "display_data"
    }
   ],
   "source": [
    "plt.scatter(df_Al[\"year\"],df_Al[\"precio\"])\n",
    "plt.show()"
   ]
  },
  {
   "cell_type": "code",
   "execution_count": 579,
   "metadata": {},
   "outputs": [
    {
     "data": {
      "image/png": "[encoded data removed]",
      "text/plain": [
       "<Figure size 432x288 with 1 Axes>"
      ]
     },
     "metadata": {
      "needs_background": "light"
     },
     "output_type": "display_data"
    }
   ],
   "source": [
    "plt.scatter(df_Al[\"km\"],df_Al[\"precio\"])\n",
    "plt.show()"
   ]
  },
  {
   "cell_type": "code",
   "execution_count": 580,
   "metadata": {},
   "outputs": [],
   "source": [
    "precio= [3750,18900,19100,26500,6000,9900,7500,7990]\n",
    "km=     [123,37,79,10,176,173,150,84]\n",
    "year=   [2004,2015,2017,2018,2010,2012,2008,2010]\n",
    "cv=     [75,192,150,231,98,90,120,112]\n",
    "gaso   =[0,1,0,1,1,0,1,1]\n",
    "Replace=[0,0,0,0,0,0,0,0]\n",
    "tuv=    [1,1,1,1,1,1,1,1]\n",
    "klima=  [1,1,1,1,1,1,1,1]\n",
    "cabrio= [0,0,0,0,0,0,0,0]\n",
    "\n",
    "cv=np.array(cv)-np.min(cv)\n",
    "L=np.array(L)-np.min(L)\n",
    "edad=np.max(year)-np.array(year)\n",
    "data={\"precio\":precio,\"km\":km,\"year\":year,\"cv\":cv,\"Replace\":Replace,\"tuv\":tuv,\"klima\":klima,\"edad\":edad}\n",
    "df_Es = pd.DataFrame(data)"
   ]
  },
  {
   "cell_type": "code",
   "execution_count": 581,
   "metadata": {},
   "outputs": [
    {
     "data": {
      "image/png": "[encoded data removed]",
      "text/plain": [
       "<Figure size 432x288 with 1 Axes>"
      ]
     },
     "metadata": {
      "needs_background": "light"
     },
     "output_type": "display_data"
    }
   ],
   "source": [
    "plt.scatter(df_Es[\"year\"],df_Es[\"precio\"],label=\"Español\")\n",
    "plt.scatter(df_Al[\"year\"],df_Al[\"precio\"],label=\"Alemán\")\n",
    "plt.legend(loc ='best')\n",
    "plt.xlabel(\"year\")\n",
    "plt.ylabel('price [Euros]')\n",
    "plt.show()"
   ]
  },
  {
   "cell_type": "code",
   "execution_count": 583,
   "metadata": {},
   "outputs": [
    {
     "data": {
      "image/png": "[encoded data removed]",
      "text/plain": [
       "<Figure size 432x288 with 1 Axes>"
      ]
     },
     "metadata": {
      "needs_background": "light"
     },
     "output_type": "display_data"
    }
   ],
   "source": [
    "plt.scatter(df_Es[\"km\"],df_Es[\"precio\"],label=\"Español\")\n",
    "plt.scatter(df_Al[\"km\"],df_Al[\"precio\"],label=\"Alemán\")\n",
    "plt.legend(loc ='best')\n",
    "plt.xlabel(\"km\")\n",
    "plt.ylabel('price [Euros]')\n",
    "plt.show()"
   ]
  },
  {
   "cell_type": "code",
   "execution_count": null,
   "metadata": {},
   "outputs": [],
   "source": []
  },
  {
   "cell_type": "code",
   "execution_count": null,
   "metadata": {},
   "outputs": [],
   "source": []
  }
 ],
 "metadata": {
  "kernelspec": {
   "display_name": "Python 3",
   "language": "python",
   "name": "python3"
  },
  "language_info": {
   "codemirror_mode": {
    "name": "ipython",
    "version": 3
   },
   "file_extension": ".py",
   "mimetype": "text/x-python",
   "name": "python",
   "nbconvert_exporter": "python",
   "pygments_lexer": "ipython3",
   "version": "3.8.3"
  }
 },
 "nbformat": 4,
 "nbformat_minor": 4
}
