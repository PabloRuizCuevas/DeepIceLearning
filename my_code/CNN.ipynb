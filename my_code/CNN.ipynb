{
 "cells": [
  {
   "cell_type": "code",
   "execution_count": 2,
   "metadata": {},
   "outputs": [],
   "source": [
    "import numpy as np\n",
    "import keras\n",
    "import keras.layers\n",
    "from keras import backend as K\n",
    "from keras import regularizers\n",
    "from keras.utils import to_categorical\n",
    "import sys\n",
    "from collections import OrderedDict\n",
    "import os\n",
    "sys.path.append(os.path.abspath(\"..\"))\n",
    "sys.path.append(os.path.join(os.path.abspath(\"..\"),'lib'))\n",
    "sys.path.append(\"/home/pablo/Documents/Master/Icecube/DeepIceLearning-master/lib\")\n",
    "import transformations as tr\n",
    "import numpy as np\n",
    "import keras.layers"
   ]
  },
  {
   "cell_type": "code",
   "execution_count": 5,
   "metadata": {},
   "outputs": [],
   "source": [
    "# Add path to own libs\n",
    "import sys\n",
    "sys.path.append(\"../lib/\")\n",
    "sys.path.append(\"/home/pablo/Documents/Master/Icecube/DeepIceLearning-master/lib\")\n",
    "\n",
    "# Keras Imports\n",
    "import keras \n",
    "import keras.layers\n",
    "from keras.callbacks import CSVLogger, EarlyStopping\n",
    "import keras.backend as K\n",
    "from keras.utils import plot_model\n",
    "\n",
    "# Own Imports\n",
    "#import block_units as bunit\n",
    "#from functions import generator, IC_identity, IC_divide_1000, IC_log10, get_indices\n",
    "import transformations as tr\n",
    "#from plotting_style import figsize\n",
    "#from custom import generators\n",
    "\n",
    "#Various Imports\n",
    "import numpy as np\n",
    "from collections import OrderedDict\n",
    "import matplotlib.pyplot as plt\n",
    "import h5py"
   ]
  },
  {
   "cell_type": "code",
   "execution_count": 6,
   "metadata": {},
   "outputs": [],
   "source": [
    "#### You don't necessarily have to change anything here\n",
    "\n",
    "# Files for training\n",
    "\n",
    "dnn_files={'files_training' : ['/h5_final/File_19.h5',\n",
    "                               '/h5_final/File_10.h5',\n",
    "                               '/h5_final/File_11.h5',],\n",
    "           'files_validation' : ['/h5_final/File_14.h5'],\n",
    "           'files_test' : ['/h5_final/File_15.h5'], }\n",
    "           \n",
    "# Size of the mini-batches\n",
    "batch_size = 200\n",
    "\n",
    "# For imbalanced data an event weighting can be useful\n",
    "# if you want to use an event weight define a function that uses the reco vals\n",
    "# to calculate a weight, e.g.: lambda mc: np.log10(mc['trunc_e'])\n",
    "sample_weights = None #lambda mc: np.log10(mc['trunc_e'])**(1.)"
   ]
  },
  {
   "cell_type": "code",
   "execution_count": 66,
   "metadata": {},
   "outputs": [
    {
     "ename": "AttributeError",
     "evalue": "module 'transformations' has no attribute 'oneHotEncode_4_types'",
     "output_type": "error",
     "traceback": [
      "\u001b[0;31m---------------------------------------------------------------------------\u001b[0m",
      "\u001b[0;31mAttributeError\u001b[0m                            Traceback (most recent call last)",
      "\u001b[0;32m<ipython-input-66-40a0ed4bc100>\u001b[0m in \u001b[0;36m<module>\u001b[0;34m\u001b[0m\n\u001b[1;32m     25\u001b[0m \u001b[0;31m# Syntax is the same as for the input case, but make sure that shape is always a tuple,\u001b[0m\u001b[0;34m\u001b[0m\u001b[0;34m\u001b[0m\u001b[0;34m\u001b[0m\u001b[0m\n\u001b[1;32m     26\u001b[0m \u001b[0;31m# so for one float use (1,), for two (2,) and so on\u001b[0m\u001b[0;34m\u001b[0m\u001b[0;34m\u001b[0m\u001b[0;34m\u001b[0m\u001b[0m\n\u001b[0;32m---> 27\u001b[0;31m output_branch1 = {'ClassificationLabel': ((4, ), tr.oneHotEncode_4_types), # Predefined Classification Label, transformed to the classes that should get predicted\n\u001b[0m\u001b[1;32m     28\u001b[0m                   'general': (4,)}\n\u001b[1;32m     29\u001b[0m \u001b[0mout_shapes\u001b[0m \u001b[0;34m=\u001b[0m \u001b[0mOrderedDict\u001b[0m\u001b[0;34m(\u001b[0m\u001b[0;34m[\u001b[0m\u001b[0;34m(\u001b[0m\u001b[0;34m'Out1'\u001b[0m\u001b[0;34m,\u001b[0m \u001b[0moutput_branch1\u001b[0m\u001b[0;34m)\u001b[0m\u001b[0;34m]\u001b[0m\u001b[0;34m)\u001b[0m\u001b[0;34m\u001b[0m\u001b[0;34m\u001b[0m\u001b[0m\n",
      "\u001b[0;31mAttributeError\u001b[0m: module 'transformations' has no attribute 'oneHotEncode_4_types'"
     ]
    }
   ],
   "source": [
    "# Input\n",
    "\n",
    "### Add here the features you want to use #####\n",
    "\n",
    "# Each input branch is a dictionary containing information about the input features.\n",
    "# Single features should have the syntax: 'feature': (shape, transformation), where shape is\n",
    "# in our case always (10,10,60) so just copy and paste. Also add a key 'general' that gives the\n",
    "# overall shape of the branch, i.e. (10,10,60, number of features)\n",
    "\n",
    "\n",
    "grid_shape = (10, 10, 60)\n",
    "input_branch1 = {'IC_charge': (grid_shape,  tr.IC_divide_100) ,\n",
    "                 'IC_mean': (grid_shape, tr.IC_divide_100),\n",
    "                 'IC_mult': (grid_shape, tr.IC_divide_1000),\n",
    "                 'IC_num_pulses': (grid_shape, tr.IC_divide_1000),\n",
    "                 'general': grid_shape+ (4,)}\n",
    "\n",
    "\n",
    "inp_shapes = OrderedDict([('Branch_IC_time', input_branch1)])\n",
    "\n",
    "# Output\n",
    "\n",
    "### Define here your output variable(s) ####\n",
    "\n",
    "# Syntax is the same as for the input case, but make sure that shape is always a tuple,\n",
    "# so for one float use (1,), for two (2,) and so on\n",
    "output_branch1 = {'ClassificationLabel': ((4, ), tr.oneHotEncode_01), # Predefined Classification Label, transformed to the classes that should get predicted\n",
    "                  'general': (4,)}\n",
    "out_shapes = OrderedDict([('Out1', output_branch1)]) "
   ]
  },
  {
   "cell_type": "code",
   "execution_count": 63,
   "metadata": {},
   "outputs": [
    {
     "ename": "NameError",
     "evalue": "name 'input_shapes' is not defined",
     "output_type": "error",
     "traceback": [
      "\u001b[0;31m---------------------------------------------------------------------------\u001b[0m",
      "\u001b[0;31mNameError\u001b[0m                                 Traceback (most recent call last)",
      "\u001b[0;32m<ipython-input-63-714719f2aca0>\u001b[0m in \u001b[0;36m<module>\u001b[0;34m\u001b[0m\n\u001b[0;32m----> 1\u001b[0;31m \u001b[0minput_b1\u001b[0m \u001b[0;34m=\u001b[0m \u001b[0mkeras\u001b[0m\u001b[0;34m.\u001b[0m\u001b[0mlayers\u001b[0m\u001b[0;34m.\u001b[0m\u001b[0mInput\u001b[0m\u001b[0;34m(\u001b[0m\u001b[0mshape\u001b[0m\u001b[0;34m=\u001b[0m\u001b[0minput_shapes\u001b[0m\u001b[0;34m[\u001b[0m\u001b[0;34m'Branch_IC_time'\u001b[0m\u001b[0;34m]\u001b[0m\u001b[0;34m[\u001b[0m\u001b[0;34m'general'\u001b[0m\u001b[0;34m]\u001b[0m\u001b[0;34m,\u001b[0m\u001b[0mname\u001b[0m \u001b[0;34m=\u001b[0m \u001b[0;34m\"Input-Branch1\"\u001b[0m\u001b[0;34m)\u001b[0m\u001b[0;34m\u001b[0m\u001b[0;34m\u001b[0m\u001b[0m\n\u001b[0m",
      "\u001b[0;31mNameError\u001b[0m: name 'input_shapes' is not defined"
     ]
    }
   ],
   "source": [
    "input_b1 = keras.layers.Input(shape=input_shapes['Branch_IC_time']['general'],name = \"Input-Branch1\")\n"
   ]
  },
  {
   "cell_type": "code",
   "execution_count": 21,
   "metadata": {},
   "outputs": [
    {
     "name": "stderr",
     "output_type": "stream",
     "text": [
      "/home/pablo/anaconda3/envs/env37/lib/python3.7/site-packages/ipykernel_launcher.py:1: H5pyDeprecationWarning: The default file mode will change to 'r' (read-only) in h5py 3.0. To suppress this warning, pass the mode you need to h5py.File(), or set the global default h5.get_config().default_file_mode, or set the environment variable H5PY_DEFAULT_READONLY=1. Available modes are: 'r', 'r+', 'w', 'w-'/'x', 'a'. See the docs for details.\n",
      "  \"\"\"Entry point for launching an IPython kernel.\n"
     ]
    }
   ],
   "source": [
    "data = h5py.File('h5_final/File_19.h5')"
   ]
  },
  {
   "cell_type": "code",
   "execution_count": 22,
   "metadata": {},
   "outputs": [
    {
     "data": {
      "text/plain": [
       "<KeysViewHDF5 ['IC_charge', 'IC_charge_100ns', 'IC_charge_10ns', 'IC_charge_500ns', 'IC_charge_50ns', 'IC_charge_last', 'IC_diff', 'IC_first_charge', 'IC_mean', 'IC_mult', 'IC_num_pulses', 'IC_pulse_0_01_pct_charge_quantile', 'IC_pulse_0_03_pct_charge_quantile', 'IC_pulse_0_05_pct_charge_quantile', 'IC_pulse_0_08_pct_charge_quantile', 'IC_pulse_0_11_pct_charge_quantile', 'IC_pulse_0_15_pct_charge_quantile', 'IC_pulse_0_2_pct_charge_quantile', 'IC_pulse_0_5_pct_charge_quantile', 'IC_pulse_0_8_pct_charge_quantile', 'IC_time_first', 'IC_time_last', 'IC_time_spread', 'IC_time_std', 'IC_time_weighted_median', 'IC_var', 'reco_vals']>"
      ]
     },
     "execution_count": 22,
     "metadata": {},
     "output_type": "execute_result"
    }
   ],
   "source": [
    "data.keys()"
   ]
  },
  {
   "cell_type": "code",
   "execution_count": 61,
   "metadata": {},
   "outputs": [
    {
     "name": "stderr",
     "output_type": "stream",
     "text": [
      "/home/pablo/anaconda3/envs/env37/lib/python3.7/site-packages/ipykernel_launcher.py:1: H5pyDeprecationWarning: The default file mode will change to 'r' (read-only) in h5py 3.0. To suppress this warning, pass the mode you need to h5py.File(), or set the global default h5.get_config().default_file_mode, or set the environment variable H5PY_DEFAULT_READONLY=1. Available modes are: 'r', 'r+', 'w', 'w-'/'x', 'a'. See the docs for details.\n",
      "  \"\"\"Entry point for launching an IPython kernel.\n"
     ]
    }
   ],
   "source": [
    "x = h5py.File('h5_final/File_19.h5')"
   ]
  },
  {
   "cell_type": "code",
   "execution_count": null,
   "metadata": {},
   "outputs": [],
   "source": []
  }
 ],
 "metadata": {
  "kernelspec": {
   "display_name": "Python 3",
   "language": "python",
   "name": "python3"
  },
  "language_info": {
   "codemirror_mode": {
    "name": "ipython",
    "version": 3
   },
   "file_extension": ".py",
   "mimetype": "text/x-python",
   "name": "python",
   "nbconvert_exporter": "python",
   "pygments_lexer": "ipython3",
   "version": "3.7.6"
  }
 },
 "nbformat": 4,
 "nbformat_minor": 4
}
